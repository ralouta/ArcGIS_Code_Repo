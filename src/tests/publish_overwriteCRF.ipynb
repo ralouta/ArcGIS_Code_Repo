{
 "cells": [
  {
   "cell_type": "code",
   "execution_count": 8,
   "metadata": {},
   "outputs": [],
   "source": [
    "url = \"https://www.arcgis.com/sharing/rest/generateToken\"\n",
    "payload = {\"username\": username, \"password\": password, \"referer\": \"http://www.arcgis.com\", \"f\": \"json\"}\n",
    "response = requests.post(url, data=payload)\n",
    "token = response.json()[\"token\"]"
   ]
  },
  {
   "cell_type": "code",
   "execution_count": null,
   "metadata": {},
   "outputs": [],
   "source": [
    "\n",
    "# Specify the path to the local file\n",
    "file_path = r\"E:\\OneDrive - Esri\\Demos & Blogs\\ArcGIS Resources\\GeoAi & Deep Learning\\Demos\\Biomass_Cantabria\\Cantabria_Biomass_Share\\cantabria_image_cube.crf.zip\"\n",
    "\n",
    "# Specify the title, tags, and description\n",
    "title = \"My CRF File\"\n",
    "tags = \"CRF, Classification, Regression\"\n",
    "description = \"This is a CRF file.\"\n",
    "\n",
    "# Check if the item exists\n",
    "url = f\"https://www.arcgis.com/sharing/rest/content/users/{username}/items/{title}/info/iteminfo.xml\"\n",
    "response = requests.get(url, params={\"token\": token, \"f\": \"json\"})\n",
    "\n",
    "# If the item exists, delete it\n",
    "if response.status_code == 200:\n",
    "    url = f\"https://www.arcgis.com/sharing/rest/content/users/{username}/items/{title}/delete\"\n",
    "    response = requests.post(url, data={\"token\": token, \"f\": \"json\"})\n",
    "    if 'success' in response.json() and response.json()[\"success\"]:\n",
    "        print(f\"Item '{title}' has been deleted.\")\n",
    "    else:\n",
    "        print(\"Failed to delete item.\")\n",
    "\n",
    "\n",
    "# Add the item\n",
    "url = f\"https://www.arcgis.com/sharing/rest/content/users/{username}/addItem\"\n",
    "payload = {\"title\": title, \"type\": \"File\", \"tags\": tags, \"description\": description, \"f\": \"json\", \"token\": token}\n",
    "files = {\"file\": open(file_path, \"rb\")}\n",
    "response = requests.post(url, data=payload, files=files)\n",
    "\n",
    "# Check the response\n",
    "if 'success' in response.json() and response.json()[\"success\"]:\n",
    "    print(f\"Item '{title}' has been added.\")\n",
    "else:\n",
    "    print(\"Failed to add item.\")\n",
    "\n",
    "# Publish the item\n",
    "url = f\"https://www.arcgis.com/sharing/rest/content/users/{username}/items/{title}/publish\"\n",
    "payload = {\"filetype\": \"shapefile\", \"publishParameters\": \"{}\", \"f\": \"json\", \"token\": token}\n",
    "response = requests.post(url, data=payload)\n",
    "\n",
    "# Check the response\n",
    "if 'success' in response.json() and response.json()[\"success\"]:\n",
    "    print(f\"Item '{title}' has been published.\")\n",
    "else:\n",
    "    print(\"Failed to publish item.\")"
   ]
  },
  {
   "cell_type": "code",
   "execution_count": 20,
   "metadata": {},
   "outputs": [
    {
     "name": "stdout",
     "output_type": "stream",
     "text": [
      "Failed to add item.\n",
      "Status code: 200\n",
      "Response content: b'{\"error\":{\"code\":400,\"messageCode\":\"CONT_0113\",\"message\":\"Item type not valid.\",\"details\":[]}}'\n"
     ]
    }
   ],
   "source": [
    "# Add the item\n",
    "url = f\"https://www.arcgis.com/sharing/rest/content/users/{username}/addItem\"\n",
    "payload = {\"title\": title, \"type\": \"File\", \"tags\": tags, \"description\": description, \"f\": \"json\", \"token\": token}\n",
    "files = {\"file\": open(file_path, \"rb\")}\n",
    "response = requests.post(url, data=payload, files=files)\n",
    "\n",
    "# Check the response\n",
    "if response.status_code == 200 and 'success' in response.json() and response.json()[\"success\"]:\n",
    "    print(f\"Item '{title}' has been added.\")\n",
    "else:\n",
    "    print(\"Failed to add item.\")\n",
    "    print(\"Status code:\", response.status_code)\n",
    "    print(\"Response content:\", response.content)"
   ]
  },
  {
   "cell_type": "code",
   "execution_count": 21,
   "metadata": {},
   "outputs": [
    {
     "data": {
      "text/plain": [
       "{'error': {'code': 400,\n",
       "  'messageCode': 'CONT_0113',\n",
       "  'message': 'Item type not valid.',\n",
       "  'details': []}}"
      ]
     },
     "execution_count": 21,
     "metadata": {},
     "output_type": "execute_result"
    }
   ],
   "source": [
    "response.json()"
   ]
  },
  {
   "cell_type": "code",
   "execution_count": null,
   "metadata": {},
   "outputs": [],
   "source": []
  },
  {
   "cell_type": "markdown",
   "metadata": {},
   "source": []
  }
 ],
 "metadata": {
  "kernelspec": {
   "display_name": "Python 3",
   "language": "python",
   "name": "python3"
  },
  "language_info": {
   "codemirror_mode": {
    "name": "ipython",
    "version": 3
   },
   "file_extension": ".py",
   "mimetype": "text/x-python",
   "name": "python",
   "nbconvert_exporter": "python",
   "pygments_lexer": "ipython3",
   "version": "3.9.18"
  }
 },
 "nbformat": 4,
 "nbformat_minor": 2
}
