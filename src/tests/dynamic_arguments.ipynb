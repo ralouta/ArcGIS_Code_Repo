{
 "cells": [
  {
   "cell_type": "code",
   "execution_count": 11,
   "metadata": {},
   "outputs": [],
   "source": [
    "import os\n",
    "import zipfile\n",
    "import shutil\n",
    "import io\n",
    "import json\n",
    "import re\n"
   ]
  },
  {
   "cell_type": "code",
   "execution_count": null,
   "metadata": {},
   "outputs": [],
   "source": [
    "json"
   ]
  },
  {
   "cell_type": "code",
   "execution_count": 83,
   "metadata": {},
   "outputs": [],
   "source": [
    "from TextSAM import TextSAM"
   ]
  },
  {
   "cell_type": "code",
   "execution_count": 113,
   "metadata": {},
   "outputs": [],
   "source": [
    "import TextSAM"
   ]
  },
  {
   "cell_type": "code",
   "execution_count": 109,
   "metadata": {},
   "outputs": [
    {
     "name": "stdout",
     "output_type": "stream",
     "text": [
      "Extracted ImageHeight value: 256\n",
      "Extracted getParameterInfo function:\n",
      "def getParameterInfo(self):\n",
      "        required_parameters = [\n",
      "            {\n",
      "                \"name\": \"raster\",\n",
      "                \"dataType\": \"raster\",\n",
      "                \"required\": True,\n",
      "                \"displayName\": \"Raster\",\n",
      "                \"description\": \"Input Raster\",\n",
      "            },\n",
      "            {\n",
      "                \"name\": \"model\",\n",
      "                \"dataType\": \"string\",\n",
      "                \"required\": True,\n",
      "                \"displayName\": \"Input Model Definition (EMD) File\",\n",
      "                \"description\": \"Input model definition (EMD) JSON file\",\n",
      "            },\n",
      "            {\n",
      "                \"name\": \"device\",\n",
      "                \"dataType\": \"numeric\",\n",
      "                \"required\": False,\n",
      "                \"displayName\": \"Device ID\",\n",
      "                \"description\": \"Device ID\",\n",
      "            },\n",
      "        ]\n",
      "        required_parameters.extend(\n",
      "            [\n",
      "                {\n",
      "                    \"name\": \"text_prompt\",\n",
      "                    \"dataType\": \"string\",\n",
      "                    \"required\": False,\n",
      "                    \"value\": \"\",\n",
      "                    \"displayName\": \"Text Prompt\",\n",
      "                    \"description\": \"Text Prompt\",\n",
      "                },\n",
      "                {\n",
      "                    \"name\": \"padding\",\n",
      "                    \"dataType\": \"numeric\",\n",
      "                    \"value\": int(self.json_info[\"ImageHeight\"]) // 4,\n",
      "                    \"required\": False,\n",
      "                    \"displayName\": \"Padding\",\n",
      "                    \"description\": \"Padding\",\n",
      "                },\n",
      "                {\n",
      "                    \"name\": \"batch_size\",\n",
      "                    \"dataType\": \"numeric\",\n",
      "                    \"required\": False,\n",
      "                    \"value\": 4,\n",
      "                    \"displayName\": \"Batch Size\",\n",
      "                    \"description\": \"Batch Size\",\n",
      "                },\n",
      "                {\n",
      "                    \"name\": \"box_threshold\",\n",
      "                    \"dataType\": \"numeric\",\n",
      "                    \"required\": False,\n",
      "                    \"value\": 0.2,\n",
      "                    \"displayName\": \"Box Threshold\",\n",
      "                    \"description\": \"Box Threshold\",\n",
      "                },\n",
      "                {\n",
      "                    \"name\": \"text_threshold\",\n",
      "                    \"dataType\": \"numeric\",\n",
      "                    \"required\": False,\n",
      "                    \"value\": 0.2,\n",
      "                    \"displayName\": \"Text Threshold\",\n",
      "                    \"description\": \"Text Threshold\",\n",
      "                },\n",
      "                {\n",
      "                    \"name\": \"tta_scales\",\n",
      "                    \"dataType\": \"string\",\n",
      "                    \"required\": False,\n",
      "                    \"value\": \"1\"\n",
      "                    if \"tta_scales\" not in self.json_info\n",
      "                    else str(self.json_info[\"tta_scales\"]),\n",
      "                    \"displayName\": \"Perform test time augmentation while predicting using different scales\",\n",
      "                    \"description\": \"provide different scales separated by comma e.g. 0.9,1,1.1\",\n",
      "                },\n",
      "                {\n",
      "                    \"name\": \"nms_overlap\",\n",
      "                    \"dataType\": \"numeric\",\n",
      "                    \"value\": 0.1,\n",
      "                    \"required\": False,\n",
      "                    \"displayName\": \"NMS Overlap\",\n",
      "                    \"description\": \"Maximum allowed overlap within each chip\",\n",
      "                },\n",
      "                \n",
      "                \n",
      "                \n",
      "               \n",
      "            ]\n",
      "        )\n",
      "        return required_parameters\n",
      "        \n",
      "        \n",
      "    \n"
     ]
    }
   ],
   "source": [
    "dlpk_path = r\"C:\\Users\\rami8629\\OneDrive - Esri\\Demos & Blogs\\ArcGIS Resources\\GeoAi & Deep Learning\\DLPKs\\TextSAM.dlpk\"\n",
    "zip_path = dlpk_path.replace('.dlpk', '.zip')\n",
    "\n",
    "try:\n",
    "    # Rename the .dlpk file to .zip\n",
    "    shutil.move(dlpk_path, zip_path)\n",
    "\n",
    "    # Extract and print .py file names from the main directory of the .zip file\n",
    "    with zipfile.ZipFile(zip_path, 'r') as zip_ref:\n",
    "        file_names = zip_ref.namelist()\n",
    "        emd_files = [file_name for file_name in file_names if file_name.endswith('.emd') and '/' not in file_name]\n",
    "        py_files = [file_name for file_name in file_names if file_name.endswith('.py') and '/' not in file_name]\n",
    "        \n",
    "        if emd_files:\n",
    "            emd_file = emd_files[0]\n",
    "            class_name = os.path.splitext(emd_file)[0]  # Extract class name from .emd file name\n",
    "            with zip_ref.open(emd_file) as file:\n",
    "                emd_content = file.read().decode('utf-8')\n",
    "                emd_data = json.loads(emd_content)\n",
    "                image_height = emd_data.get(\"ImageHeight\")\n",
    "                if image_height is not None:\n",
    "                    image_height_value = int(image_height)\n",
    "                    padding = image_height_value // 4\n",
    "                    print(f\"Extracted ImageHeight value: {padding}\")\n",
    "\n",
    "        if py_files:\n",
    "            py_file = py_files[0]\n",
    "            with zip_ref.open(py_file) as file:\n",
    "                py_content = file.read().decode('utf-8')\n",
    "                # Use regex to find the dynamically named class and getParameterInfo function\n",
    "                class_pattern = rf'class\\s+{class_name}\\s*:\\s*(.*?)(?=class\\s|\\Z)'\n",
    "                class_match = re.search(class_pattern, py_content, re.DOTALL)\n",
    "                if class_match:\n",
    "                    class_content = class_match.group(1)\n",
    "                    function_match = re.search(r'def\\s+getParameterInfo\\s*\\(.*?\\)\\s*:\\s*(.*?)(?=def\\s|\\Z)', class_content, re.DOTALL)\n",
    "                    if function_match:\n",
    "                        function_content = function_match.group(0)\n",
    "                        print(\"Extracted getParameterInfo function:\")\n",
    "                        print(function_content)\n",
    "                    else:\n",
    "                        print(f\"getParameterInfo function not found in {class_name} class.\")\n",
    "                else:\n",
    "                    print(f\"{class_name} class not found in the .py file.\")\n",
    "                \n",
    "except Exception as e:\n",
    "    print(f\"An error occurred: {e}\")\n",
    "finally:\n",
    "    # Rename the .zip file back to .dlpk\n",
    "    if os.path.exists(zip_path):\n",
    "        shutil.move(zip_path, dlpk_path)"
   ]
  },
  {
   "cell_type": "code",
   "execution_count": 55,
   "metadata": {},
   "outputs": [
    {
     "data": {
      "text/plain": [
       "'[\\r\\n                {\\r\\n                    \"name\": \"text_prompt\",\\r\\n                    \"dataType\": \"string\",\\r\\n                    \"required\": False,\\r\\n                    \"value\": \"\",\\r\\n                    \"displayName\": \"Text Prompt\",\\r\\n                    \"description\": \"Text Prompt\",\\r\\n                },\\r\\n                {\\r\\n                    \"name\": \"padding\",\\r\\n                    \"dataType\": \"numeric\",\\r\\n                    \"value\": int(self.json_info[\"ImageHeight\"]) // 4,\\r\\n                    \"required\": False,\\r\\n                    \"displayName\": \"Padding\",\\r\\n                    \"description\": \"Padding\",\\r\\n                },\\r\\n                {\\r\\n                    \"name\": \"batch_size\",\\r\\n                    \"dataType\": \"numeric\",\\r\\n                    \"required\": False,\\r\\n                    \"value\": 4,\\r\\n                    \"displayName\": \"Batch Size\",\\r\\n                    \"description\": \"Batch Size\",\\r\\n                },\\r\\n                {\\r\\n                    \"name\": \"box_threshold\",\\r\\n                    \"dataType\": \"numeric\",\\r\\n                    \"required\": False,\\r\\n                    \"value\": 0.2,\\r\\n                    \"displayName\": \"Box Threshold\",\\r\\n                    \"description\": \"Box Threshold\",\\r\\n                },\\r\\n                {\\r\\n                    \"name\": \"text_threshold\",\\r\\n                    \"dataType\": \"numeric\",\\r\\n                    \"required\": False,\\r\\n                    \"value\": 0.2,\\r\\n                    \"displayName\": \"Text Threshold\",\\r\\n                    \"description\": \"Text Threshold\",\\r\\n                },\\r\\n                {\\r\\n                    \"name\": \"tta_scales\",\\r\\n                    \"dataType\": \"string\",\\r\\n                    \"required\": False,\\r\\n                    \"value\": \"1\"\\r\\n                    if \"tta_scales\" not in self.json_info\\r\\n                    else str(self.json_info[\"tta_scales\"]),\\r\\n                    \"displayName\": \"Perform test time augmentation while predicting using different scales\",\\r\\n                    \"description\": \"provide different scales separated by comma e.g. 0.9,1,1.1\",\\r\\n                },\\r\\n                {\\r\\n                    \"name\": \"nms_overlap\",\\r\\n                    \"dataType\": \"numeric\",\\r\\n                    \"value\": 0.1,\\r\\n                    \"required\": False,\\r\\n                    \"displayName\": \"NMS Overlap\",\\r\\n                    \"description\": \"Maximum allowed overlap within each chip\",\\r\\n                },\\r\\n                \\r\\n                \\r\\n                \\r\\n               \\r\\n            ]\\r\\n        )'"
      ]
     },
     "execution_count": 55,
     "metadata": {},
     "output_type": "execute_result"
    }
   ],
   "source": [
    "required_parameters_content"
   ]
  }
 ],
 "metadata": {
  "kernelspec": {
   "display_name": "genai-auto-py3",
   "language": "python",
   "name": "python3"
  },
  "language_info": {
   "codemirror_mode": {
    "name": "ipython",
    "version": 3
   },
   "file_extension": ".py",
   "mimetype": "text/x-python",
   "name": "python",
   "nbconvert_exporter": "python",
   "pygments_lexer": "ipython3",
   "version": "3.11.8"
  }
 },
 "nbformat": 4,
 "nbformat_minor": 2
}
