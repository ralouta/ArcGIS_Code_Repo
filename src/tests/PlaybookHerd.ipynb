{
 "cells": [
  {
   "cell_type": "code",
   "execution_count": 7,
   "metadata": {},
   "outputs": [],
   "source": [
    "from arcgis.gis import GIS\n",
    "from arcgis.geometry import Point\n",
    "import random\n",
    "import json\n",
    "import requests\n",
    "\n",
    "import pandas as pd\n",
    "import tempfile\n",
    "import os\n",
    "\n",
    "from shapely.geometry import shape, Point, Polygon\n",
    "import random\n",
    "\n",
    "import numpy as np\n",
    "\n",
    "from getpass import getpass"
   ]
  },
  {
   "cell_type": "code",
   "execution_count": 4,
   "metadata": {},
   "outputs": [],
   "source": [
    "url = \"https://services5.arcgis.com/sjP4Ugu5s0dZWLjd/arcgis/rest/services/Administrative_Boundaries_Reference_(view_layer)/FeatureServer/2/query?outFields=*&where=adm0_name%3D'Afghanistan'&f=geojson\"\n",
    "response = requests.get(url)\n",
    "afghanistan_boundaries = json.loads(response.text)"
   ]
  },
  {
   "cell_type": "code",
   "execution_count": 5,
   "metadata": {},
   "outputs": [],
   "source": [
    "username = input(\"Enter your username: \")\n",
    "password = getpass(\"Enter your password: \")\n",
    "\n",
    "gis = GIS(\"https://www.arcgis.com\", username, password)"
   ]
  },
  {
   "cell_type": "code",
   "execution_count": 11,
   "metadata": {},
   "outputs": [
    {
     "ename": "NameError",
     "evalue": "name 'first_names' is not defined",
     "output_type": "error",
     "traceback": [
      "\u001b[1;31m---------------------------------------------------------------------------\u001b[0m",
      "\u001b[1;31mNameError\u001b[0m                                 Traceback (most recent call last)",
      "\u001b[1;32m~\\AppData\\Local\\Temp\\ipykernel_29556\\1424064532.py\u001b[0m in \u001b[0;36m<cell line: 11>\u001b[1;34m()\u001b[0m\n\u001b[0;32m     31\u001b[0m         \u001b[0manimals\u001b[0m\u001b[1;33m[\u001b[0m\u001b[1;34m'farm_name'\u001b[0m\u001b[1;33m]\u001b[0m \u001b[1;33m=\u001b[0m \u001b[0mrandom\u001b[0m\u001b[1;33m.\u001b[0m\u001b[0mchoice\u001b[0m\u001b[1;33m(\u001b[0m\u001b[0mused_names\u001b[0m\u001b[1;33m)\u001b[0m\u001b[1;33m\u001b[0m\u001b[1;33m\u001b[0m\u001b[0m\n\u001b[0;32m     32\u001b[0m     \u001b[1;32melse\u001b[0m\u001b[1;33m:\u001b[0m\u001b[1;33m\u001b[0m\u001b[1;33m\u001b[0m\u001b[0m\n\u001b[1;32m---> 33\u001b[1;33m         \u001b[0mfarm_name\u001b[0m \u001b[1;33m=\u001b[0m \u001b[1;34mf\"{np.random.choice(first_names)} {np.random.choice(last_names)} Farm\"\u001b[0m\u001b[1;33m\u001b[0m\u001b[1;33m\u001b[0m\u001b[0m\n\u001b[0m\u001b[0;32m     34\u001b[0m         \u001b[0mused_names\u001b[0m\u001b[1;33m.\u001b[0m\u001b[0mappend\u001b[0m\u001b[1;33m(\u001b[0m\u001b[0mfarm_name\u001b[0m\u001b[1;33m)\u001b[0m\u001b[1;33m\u001b[0m\u001b[1;33m\u001b[0m\u001b[0m\n\u001b[0;32m     35\u001b[0m         \u001b[0manimals\u001b[0m\u001b[1;33m[\u001b[0m\u001b[1;34m'farm_name'\u001b[0m\u001b[1;33m]\u001b[0m \u001b[1;33m=\u001b[0m \u001b[0mfarm_name\u001b[0m\u001b[1;33m\u001b[0m\u001b[1;33m\u001b[0m\u001b[0m\n",
      "\u001b[1;31mNameError\u001b[0m: name 'first_names' is not defined"
     ]
    }
   ],
   "source": [
    "# Value production per animal type\n",
    "animal_values = {'F-J': 50, 'F-SA': 150, 'F-A': 120, 'M-J': 20, 'M-SA': 250, 'M-A': 5}\n",
    "\n",
    "# Convert the GeoJSON to a shapely geometry\n",
    "polygon = shape(afghanistan_boundaries['features'][0]['geometry'])\n",
    "\n",
    "\n",
    "data = []\n",
    "used_names = []\n",
    "\n",
    "# List of common Afghan first names and last names\n",
    "first_names = ['Ahmad', 'Ali', 'Mohammad', 'Hassan', 'Rahman', 'Khan', 'Hussein', 'Karim', 'Omar', 'Abdul']\n",
    "last_names = ['Zadran', 'Niazi', 'Yousafzai', 'Ludin', 'Barakzai', 'Ahmadi', 'Kakar', 'Wardak', 'Tani', 'Noorzai']\n",
    "\n",
    "\n",
    "for i in range(10000):\n",
    "    while True:\n",
    "        # Generate a random point within the bounding box\n",
    "        lon = random.uniform(polygon.bounds[0], polygon.bounds[2])\n",
    "        lat = random.uniform(polygon.bounds[1], polygon.bounds[3])\n",
    "        point = Point(lon, lat)\n",
    "\n",
    "        # Check if the point is within the polygon\n",
    "        if polygon.contains(point):\n",
    "            break\n",
    "\n",
    "    # Generate random integer values for each farm animal\n",
    "    animals = {animal: random.randint(0, 100) for animal in animal_values.keys()}    \n",
    "\n",
    "    # Add the coordinates to the animals dictionary\n",
    "    animals['x'] = lon\n",
    "    animals['y'] = lat\n",
    "\n",
    "    # Generate a realistic farm name and add it to the animals dictionary\n",
    "    if i % 50 == 0 and i != 0 and used_names:  # Repeat a previously used name every 50th iteration\n",
    "        animals['farm_name'] = random.choice(used_names)\n",
    "    else:\n",
    "        farm_name = f\"{np.random.choice(first_names)} {np.random.choice(last_names)} Farm\"\n",
    "        used_names.append(farm_name)\n",
    "        animals['farm_name'] = farm_name\n",
    "    \n",
    "    # Calculate and add the total value production estimate to the animals dictionary\n",
    "    animals['total_value_production'] = sum(animals[animal] * animal_values[animal] for animal in animal_values.keys())    \n",
    "\n",
    "    # Append the dictionary to the data list\n",
    "    data.append(animals)\n",
    "\n",
    "# Convert the data list to a DataFrame\n",
    "df = pd.DataFrame(data)"
   ]
  },
  {
   "cell_type": "code",
   "execution_count": 76,
   "metadata": {},
   "outputs": [],
   "source": [
    "# Create a temporary file\n",
    "temp_file = tempfile.NamedTemporaryFile(delete=False, suffix='.csv')\n",
    "try:\n",
    "    # Write the DataFrame to the temporary file\n",
    "    df.to_csv(temp_file.name, index=False)\n",
    "\n",
    "    # Close the temporary file\n",
    "    temp_file.close()\n",
    "\n",
    "    # Create a new item from the temporary file\n",
    "    item_prop = {\"title\": \"Random Herdenmodel AFG\", \"type\": \"CSV\", \"tags\": [\"Afghanistan\", \"Farms\"]}\n",
    "    \n",
    "    # Search for existing items\n",
    "    existing_items = gis.content.search(query=\"title:'Random Herdenmodel AFG' AND owner:{}\".format(gis.users.me.username), item_type=\"Feature Layer\")\n",
    "    \n",
    "    # Delete existing items\n",
    "    for item in existing_items:\n",
    "        item.delete()\n",
    "\n",
    "    # Add the new item\n",
    "    csv_item = gis.content.add(item_properties=item_prop, data=temp_file.name)\n",
    "\n",
    "    # Publish the CSV item as a feature layer\n",
    "    feature_layer_item = csv_item.publish()\n",
    "\n",
    "finally:\n",
    "    # Delete the temporary file\n",
    "    os.unlink(temp_file.name)"
   ]
  },
  {
   "cell_type": "code",
   "execution_count": null,
   "metadata": {},
   "outputs": [],
   "source": []
  }
 ],
 "metadata": {
  "kernelspec": {
   "display_name": "Python 3",
   "language": "python",
   "name": "python3"
  },
  "language_info": {
   "codemirror_mode": {
    "name": "ipython",
    "version": 3
   },
   "file_extension": ".py",
   "mimetype": "text/x-python",
   "name": "python",
   "nbconvert_exporter": "python",
   "pygments_lexer": "ipython3",
   "version": "3.9.18"
  }
 },
 "nbformat": 4,
 "nbformat_minor": 2
}
