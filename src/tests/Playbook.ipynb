{
 "cells": [
  {
   "cell_type": "code",
   "execution_count": 12,
   "metadata": {},
   "outputs": [],
   "source": [
    "import arcpy\n",
    "import os\n",
    "import statistics"
   ]
  },
  {
   "cell_type": "code",
   "execution_count": 5,
   "metadata": {},
   "outputs": [],
   "source": [
    "gdb = r\"E:\\OneDrive - Esri\\GeoSpatial Authorities\\Malbork_DL\\Malbork_DL.gdb\"\n",
    "arcpy.env.workspace = gdb\n",
    "arcpy.env.overwriteOutput = True\n",
    "features_output = [\"Buildings_USA_20\",\"Buildings_USA_40\",\"Buildings_USA_40\",\"Buildings_USA_50\"]\n",
    "out_fc_name = \"Buildings_USA\""
   ]
  },
  {
   "cell_type": "code",
   "execution_count": 14,
   "metadata": {},
   "outputs": [
    {
     "data": {
      "text/html": [
       "<div class='gpresult'><h2>Messages</h2><div id='messages' data-messages='[\"Start Time: Monday, 26 February 2024 18:02:33\",\"Succeeded at Monday, 26 February 2024 18:02:33 (Elapsed Time: 0,48 seconds)\"]' data-show='true'><div id = 'default' /></div></div>"
      ],
      "text/plain": [
       "<Result 'E:\\\\OneDrive - Esri\\\\GeoSpatial Authorities\\\\Malbork_DL\\\\Malbork_DL.gdb\\\\Buildings_USA_SpatialJoin'>"
      ]
     },
     "execution_count": 14,
     "metadata": {},
     "output_type": "execute_result"
    }
   ],
   "source": [
    "arcpy.management.Merge(features_output, \"Buildings_USA_Merged\", \"\", \"ADD_SOURCE_INFO\")\n",
    "arcpy.management.Dissolve(\"Buildings_USA_Merged\", \"Buildings_USA_Dissolved\", \"\", \"\", \"SINGLE_PART\", \"DISSOLVE_LINES\")\n",
    "arcpy.analysis.SpatialJoin(\"Buildings_USA_Merged\", \"Buildings_USA_Dissolved\", \"Buildings_USA_SpatialJoin\", \"JOIN_ONE_TO_MANY\", \"KEEP_ALL\", \"\", \"INTERSECT\")"
   ]
  },
  {
   "cell_type": "code",
   "execution_count": 15,
   "metadata": {},
   "outputs": [],
   "source": [
    "# Create a dictionary to store the shape_area values for each JOIN_FID\n",
    "shape_areas = {}\n",
    "\n",
    "# Use a SearchCursor to iterate over the features\n",
    "with arcpy.da.SearchCursor(f\"{out_fc_name}_SpatialJoin\", [\"JOIN_FID\", \"shape_area\"]) as cursor:\n",
    "    for row in cursor:\n",
    "        # Add the shape_area value to the list associated with the JOIN_FID\n",
    "        shape_areas.setdefault(row[0], []).append(row[1])\n",
    "\n",
    "# Create a dictionary to store the mean and standard deviation of shape_area values for each JOIN_FID\n",
    "stats_areas = {join_fid: (statistics.mean(areas), statistics.stdev(areas)) for join_fid, areas in shape_areas.items() if len(areas) > 1}\n",
    "\n",
    "merge_src_dict = {}\n",
    "# Use a SearchCursor to iterate over the features again\n",
    "with arcpy.da.SearchCursor(f\"{out_fc_name}_SpatialJoin\", [\"OBJECTID\", \"JOIN_FID\", \"shape_area\", \"TARGET_FID_1\", \"MERGE_SRC\"]) as cursor:\n",
    "    for row in cursor:\n",
    "        # If the absolute difference between the shape_area value and the mean is greater than 2 standard deviations, add the OBJECTID to the list\n",
    "        join_fid = row[1]\n",
    "        if join_fid in stats_areas:\n",
    "            mean, stdev = stats_areas[join_fid]\n",
    "            if abs(row[2] - mean) > 1.75 * stdev:\n",
    "                        merge_src_dict.setdefault(row[4], []).append(row[3])"
   ]
  },
  {
   "cell_type": "code",
   "execution_count": 20,
   "metadata": {},
   "outputs": [
    {
     "name": "stdout",
     "output_type": "stream",
     "text": [
      "hi\n",
      "hi\n",
      "hi\n",
      "hi\n",
      "hi\n",
      "hi\n",
      "hi\n",
      "hi\n",
      "hi\n",
      "hi\n",
      "hi\n",
      "hi\n",
      "hi\n",
      "hi\n",
      "hi\n",
      "hi\n",
      "hi\n",
      "hi\n",
      "hi\n",
      "hi\n",
      "hi\n",
      "hi\n",
      "hi\n",
      "hi\n"
     ]
    }
   ],
   "source": [
    "# Iterate over the items in the dictionary\n",
    "for fc_path in merge_src_dict:\n",
    "    # Use an UpdateCursor to iterate over the features in the feature class\n",
    "    cursor = arcpy.da.UpdateCursor(fc_path, \"OBJECTID\")\n",
    "    for row in cursor:\n",
    "        # If the OBJECTID is in the list, delete the row\n",
    "        if row[0] in merge_src_dict[fc_path]:\n",
    "            print(\"hi\")\n",
    "    del cursor"
   ]
  }
 ],
 "metadata": {
  "kernelspec": {
   "display_name": "Python 3",
   "language": "python",
   "name": "python3"
  },
  "language_info": {
   "codemirror_mode": {
    "name": "ipython",
    "version": 3
   },
   "file_extension": ".py",
   "mimetype": "text/x-python",
   "name": "python",
   "nbconvert_exporter": "python",
   "pygments_lexer": "ipython3",
   "version": "3.9.18"
  }
 },
 "nbformat": 4,
 "nbformat_minor": 2
}
