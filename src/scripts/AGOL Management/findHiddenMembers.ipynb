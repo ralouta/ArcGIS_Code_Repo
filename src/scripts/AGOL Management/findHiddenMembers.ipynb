{
 "cells": [
  {
   "cell_type": "code",
   "execution_count": 8,
   "metadata": {},
   "outputs": [],
   "source": [
    "from arcgis.gis import GIS\n",
    "import getpass\n",
    "import requests\n"
   ]
  },
  {
   "cell_type": "code",
   "execution_count": 2,
   "metadata": {},
   "outputs": [],
   "source": [
    "# Input username, password and group owner username\n",
    "username = input(\"Enter your username: \")\n",
    "password = getpass.getpass(\"Enter your password: \")\n",
    "group_owner_username = input(\"Enter group & items owner username: \")\n",
    "\n",
    "# Connect to the GIS\n",
    "gis = GIS(\"https://www.arcgis.com\", username, password)\n"
   ]
  },
  {
   "cell_type": "code",
   "execution_count": 17,
   "metadata": {},
   "outputs": [
    {
     "name": "stdout",
     "output_type": "stream",
     "text": [
      "Group with hidden members found: FAO Lesotho - Land Cover Validation Campaign 2021  (ID: 5c238d8b7f0a40c69fda18ab9b96c373)\n",
      "Total groups with hidden members: 1\n"
     ]
    }
   ],
   "source": [
    "\n",
    "# Function to generate a token\n",
    "def generate_token(username, password):\n",
    "    url = 'https://www.arcgis.com/sharing/generateToken'\n",
    "    params = {\n",
    "        'f': 'json',\n",
    "        'username': username,\n",
    "        'password': password,\n",
    "        'referer': 'http://www.arcgis.com'\n",
    "    }\n",
    "    response = requests.post(url, data=params)\n",
    "    response.raise_for_status()\n",
    "    return response.json().get('token')\n",
    "\n",
    "# Function to find groups with hidden members\n",
    "def find_groups_with_hidden_members(username, token):\n",
    "    url = f'https://www.arcgis.com/sharing/rest/community/users/{group_owner_username}'\n",
    "    params = {\n",
    "        'f': 'pjson',\n",
    "        'token': token\n",
    "    }\n",
    "    response = requests.get(url, params=params)\n",
    "    response.raise_for_status()\n",
    "    user_info = response.json()\n",
    "    \n",
    "    groups_with_hidden_members = []\n",
    "    for group in user_info.get('groups', []):\n",
    "        if group.get('hiddenMembers'):\n",
    "            groups_with_hidden_members.append(group)\n",
    "            print(f\"Group with hidden members found: {group['title']} (ID: {group['id']})\")\n",
    "    \n",
    "    return groups_with_hidden_members\n",
    "\n",
    "# Generate a token\n",
    "token = generate_token(username, password)\n",
    "\n",
    "# Find and print groups with hidden members\n",
    "groups_with_hidden_members = find_groups_with_hidden_members(username, token)\n",
    "print(f\"Total groups with hidden members: {len(groups_with_hidden_members)}\")"
   ]
  }
 ],
 "metadata": {
  "kernelspec": {
   "display_name": "Python 3",
   "language": "python",
   "name": "python3"
  },
  "language_info": {
   "codemirror_mode": {
    "name": "ipython",
    "version": 3
   },
   "file_extension": ".py",
   "mimetype": "text/x-python",
   "name": "python",
   "nbconvert_exporter": "python",
   "pygments_lexer": "ipython3",
   "version": "3.11.8"
  }
 },
 "nbformat": 4,
 "nbformat_minor": 2
}
