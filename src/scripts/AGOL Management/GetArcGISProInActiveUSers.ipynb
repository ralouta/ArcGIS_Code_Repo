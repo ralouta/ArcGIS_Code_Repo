{
 "cells": [
  {
   "cell_type": "code",
   "execution_count": 1,
   "metadata": {},
   "outputs": [
    {
     "name": "stderr",
     "output_type": "stream",
     "text": [
      "C:\\Users\\rami8629\\AppData\\Roaming\\Python\\Python39\\site-packages\\pandas\\core\\arrays\\masked.py:60: UserWarning: Pandas requires version '1.3.6' or newer of 'bottleneck' (version '1.3.5' currently installed).\n",
      "  from pandas.core import (\n"
     ]
    }
   ],
   "source": [
    "from arcgis.gis import GIS\n",
    "\n",
    "import time\n",
    "from datetime import datetime\n",
    "\n",
    "import getpass"
   ]
  },
  {
   "cell_type": "code",
   "execution_count": 3,
   "metadata": {},
   "outputs": [],
   "source": [
    "username = input(\"Enter your username: \")\n",
    "password = getpass.getpass(\"Enter your password: \")\n",
    "\n",
    "# Connect to ArcGIS Online\n",
    "gis = GIS(\"https://www.arcgis.com\", username, password)\n"
   ]
  },
  {
   "cell_type": "code",
   "execution_count": 4,
   "metadata": {},
   "outputs": [
    {
     "name": "stdout",
     "output_type": "stream",
     "text": [
      "['AGiron_aid', 'AidDevService', 'aiddev_admin', 'ajenkins_EsriAidDev', 'akim.aiddev', 'amakowicki_aid', 'apfister_EsriAidDev', 'avazquezgbd', 'bladds_EsriAidDev', 'bmccardle_aid', 'boneill.aid', 'bstayer_EsriAidDev', 'cbrigham_aid', 'ckiefer_EsriAidDev', 'ckwon_aid', 'cmain_EsriAidDev', 'cmenzel_EsriAidDev', 'cmesserich_aid', 'croland_EsriAidDev', 'cterborgh_aid', 'dgadsden_aid2', 'dmarsh_aiddev', 'dsmetana_aid', 'ESwenson_EsriAidDev', 'Firas_EsriAidDev', 'jhughes_EsriAidDev', 'jvandeusen_aid', 'kmorrish_dev', 'ksmyth_aid', 'lczerwinski.aiddev', 'lndungo_EsriAidDev', 'lowen_aid', 'ltodd.eadev', 'mburger_EsriAidDev', 'mmusgrave_aid', 'npgo_user_aiddev', 'ocottray_EsriAidDev', 'phornstein_aid', 'ralouta.aiddev', 'rdonihue_EsriAidDev4', 'RLehman_aid', 'rrike_esriaiddev', 'speluso_aid', 'ssawaya_aid', 'sydneythomas_dev', 'tbutcher_EsriAidDev', 'vdesrosier_esriaiddev', 'vlusetti_EsriAidDev', 'ykandula.esriaiddev']\n"
     ]
    }
   ],
   "source": [
    "# Get the License Manager\n",
    "license_manager = gis.admin.license\n",
    "\n",
    "# Get the ArcGIS Pro License\n",
    "pro_license = license_manager.get('ArcGIS Pro')\n",
    "\n",
    "# Get all the licenses\n",
    "all_licenses = pro_license.all()\n",
    "\n",
    "# Get the usernames of users who didn't login in the past 3 months\n",
    "pro_usernames = [user['username'] for user in all_licenses]\n",
    "\n",
    "print(pro_usernames)\n"
   ]
  },
  {
   "cell_type": "code",
   "execution_count": 5,
   "metadata": {},
   "outputs": [
    {
     "name": "stdout",
     "output_type": "stream",
     "text": [
      "{'AGiron_aid': datetime.datetime(2023, 8, 23, 19, 5, 55), 'aiddev_admin': datetime.datetime(2015, 6, 25, 15, 6, 57), 'ajenkins_EsriAidDev': datetime.datetime(2023, 11, 22, 18, 26, 19), 'amakowicki_aid': datetime.datetime(2022, 8, 2, 20, 50, 11), 'bladds_EsriAidDev': datetime.datetime(2019, 12, 11, 16, 20, 2), 'bmccardle_aid': datetime.datetime(2021, 10, 1, 16, 0, 54), 'boneill.aid': datetime.datetime(2023, 10, 2, 16, 55, 57), 'bstayer_EsriAidDev': datetime.datetime(2023, 11, 2, 14, 2, 37), 'cbrigham_aid': datetime.datetime(2024, 1, 8, 15, 23, 14), 'ckiefer_EsriAidDev': datetime.datetime(2020, 7, 29, 15, 43, 4), 'cmain_EsriAidDev': datetime.datetime(2020, 1, 2, 17, 11, 1), 'cmenzel_EsriAidDev': datetime.datetime(2020, 12, 3, 2, 54, 41), 'cmesserich_aid': datetime.datetime(2023, 9, 22, 16, 59, 12), 'croland_EsriAidDev': datetime.datetime(2022, 9, 15, 17, 58, 15), 'dgadsden_aid2': datetime.datetime(2022, 12, 1, 17, 35, 11), 'dsmetana_aid': datetime.datetime(2023, 1, 9, 17, 58, 31), 'Firas_EsriAidDev': None, 'jhughes_EsriAidDev': datetime.datetime(2019, 11, 22, 16, 34, 9), 'jvandeusen_aid': datetime.datetime(2020, 7, 12, 18, 28, 54), 'ksmyth_aid': datetime.datetime(2023, 2, 2, 14, 49, 50), 'lndungo_EsriAidDev': datetime.datetime(2019, 5, 30, 10, 32, 39), 'lowen_aid': datetime.datetime(2023, 6, 15, 20, 13, 52), 'ltodd.eadev': datetime.datetime(2022, 10, 28, 21, 43, 43), 'mburger_EsriAidDev': datetime.datetime(2018, 5, 10, 12, 21, 27), 'ocottray_EsriAidDev': datetime.datetime(2023, 10, 19, 21, 22, 34), 'phornstein_aid': datetime.datetime(2019, 1, 24, 13, 18, 35), 'rdonihue_EsriAidDev4': datetime.datetime(2019, 11, 21, 13, 47, 34), 'RLehman_aid': datetime.datetime(2020, 7, 13, 16, 25, 2), 'speluso_aid': datetime.datetime(2021, 4, 19, 17, 30, 24), 'sydneythomas_dev': datetime.datetime(2023, 8, 8, 19, 45, 25), 'vlusetti_EsriAidDev': datetime.datetime(2023, 5, 18, 17, 24, 13)}\n"
     ]
    }
   ],
   "source": [
    "# Get the current timestamp in milliseconds\n",
    "current_timestamp = int(time.time() * 1000)\n",
    "\n",
    "# Get the timestamp for 3 months ago\n",
    "three_months_ago = current_timestamp - (3 * 30 * 24 * 60 * 60 * 1000)\n",
    "\n",
    "user_last_login = {}\n",
    "\n",
    "# Iterate over the pro_usernames list\n",
    "for username in pro_usernames:\n",
    "    # Get the user\n",
    "    user = gis.users.get(username)\n",
    "    \n",
    "    # If the user exists and didn't login in the past 3 months or never logged in, add their username and last login date to the dictionary\n",
    "    if user and (user.lastLogin < three_months_ago or user.lastLogin == -1):\n",
    "        # Convert the lastLogin timestamp to a datetime object if the user has logged in before\n",
    "        last_login_date = datetime.fromtimestamp(user.lastLogin / 1000) if user.lastLogin != -1 else None\n",
    "        user_last_login[username] = last_login_date\n",
    "print(user_last_login)"
   ]
  },
  {
   "cell_type": "code",
   "execution_count": 6,
   "metadata": {},
   "outputs": [],
   "source": [
    "non_publishing_usernames = []\n",
    "\n",
    "# Iterate over the pro_usernames list\n",
    "for username in pro_usernames:\n",
    "    user = gis.users.get(username)\n",
    "    \n",
    "    # Get the user's folders\n",
    "    folders = user.folders\n",
    "    folders.append(None)  # Add None to check the root folder\n",
    "    \n",
    "    # Initialize a flag to indicate whether the user has published any items in the past 3 months\n",
    "    has_published_recently = False\n",
    "    \n",
    "    # Iterate over the folders\n",
    "    for folder in folders:\n",
    "        # Get the items in the folder\n",
    "        items = user.items(folder=folder, max_items=100)\n",
    "        \n",
    "        # Check if any item was created in the past 3 months\n",
    "        if any(item['created'] > three_months_ago for item in items):\n",
    "            has_published_recently = True\n",
    "            break\n",
    "    \n",
    "    # If the user hasn't published any items in the past 3 months, add their username to the list\n",
    "    if not has_published_recently:\n",
    "        non_publishing_usernames.append(username)\n",
    "\n",
    "print(non_publishing_usernames)"
   ]
  }
 ],
 "metadata": {
  "kernelspec": {
   "display_name": "Python 3",
   "language": "python",
   "name": "python3"
  },
  "language_info": {
   "codemirror_mode": {
    "name": "ipython",
    "version": 3
   },
   "file_extension": ".py",
   "mimetype": "text/x-python",
   "name": "python",
   "nbconvert_exporter": "python",
   "pygments_lexer": "ipython3",
   "version": "3.9.18"
  }
 },
 "nbformat": 4,
 "nbformat_minor": 2
}
