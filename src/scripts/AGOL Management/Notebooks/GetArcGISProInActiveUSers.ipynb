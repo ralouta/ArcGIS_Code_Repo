{
 "cells": [
  {
   "cell_type": "markdown",
   "metadata": {},
   "source": [
    "## General Workflow\n",
    "\n",
    "The code in this Jupyter notebook is designed to identify inactive users of ArcGIS Pro within an organization. The workflow is as follows:\n",
    "\n",
    "1. Import necessary libraries.\n",
    "2. Prompt the user to enter their ArcGIS Online credentials.\n",
    "3. Connect to ArcGIS Online using the provided credentials.\n",
    "4. Retrieve all ArcGIS Pro licenses and the associated usernames.\n",
    "5. Identify users who have not logged in within the past three months.\n",
    "6. Check if these inactive users have published any items within the past three months.\n",
    "\n",
    "---\n",
    "\n",
    "**Cell 1: Importing Libraries**\n",
    "\n",
    "---\n"
   ]
  },
  {
   "cell_type": "code",
   "execution_count": null,
   "metadata": {},
   "outputs": [],
   "source": [
    "from arcgis.gis import GIS\n",
    "\n",
    "import time\n",
    "from datetime import datetime\n",
    "\n",
    "import getpass"
   ]
  },
  {
   "cell_type": "markdown",
   "metadata": {},
   "source": [
    "---\n",
    "\n",
    "**Cell 2: User Authentication**\n",
    "\n",
    "In this cell, we prompt the user to enter their ArcGIS Online credentials. These credentials are used to establish a connection to ArcGIS Online.\n",
    "\n",
    "---\n"
   ]
  },
  {
   "cell_type": "code",
   "execution_count": null,
   "metadata": {},
   "outputs": [],
   "source": [
    "username = input(\"Enter your username: \")\n",
    "password = getpass.getpass(\"Enter your password: \")\n",
    "\n",
    "# Connect to ArcGIS Online\n",
    "gis = GIS(\"https://www.arcgis.com\", username, password)\n"
   ]
  },
  {
   "cell_type": "markdown",
   "metadata": {},
   "source": [
    "---\n",
    "\n",
    "**Cell 3: Retrieving ArcGIS Pro Licenses**\n",
    "\n",
    "This cell is responsible for retrieving all ArcGIS Pro licenses and the associated usernames. This information is crucial for identifying inactive users in the subsequent steps.\n",
    "\n",
    "---"
   ]
  },
  {
   "cell_type": "code",
   "execution_count": null,
   "metadata": {},
   "outputs": [],
   "source": [
    "# Get the License Manager\n",
    "license_manager = gis.admin.license\n",
    "\n",
    "# Get the ArcGIS Pro License\n",
    "pro_license = license_manager.get('ArcGIS Pro')\n",
    "\n",
    "# Get all the licenses\n",
    "all_licenses = pro_license.all()\n",
    "\n",
    "# Get the usernames of users who didn't login in the past 3 months\n",
    "pro_usernames = [user['username'] for user in all_licenses]\n",
    "\n",
    "print(pro_usernames)\n"
   ]
  },
  {
   "cell_type": "markdown",
   "metadata": {},
   "source": [
    "---\n",
    "\n",
    "**Cell 4: Identifying Inactive Users**\n",
    "\n",
    "In this cell, we identify users who have not logged in within the past three months. This is done by comparing the current timestamp with the last login timestamp of each user. Users who have not logged in within this period are considered inactive.\n",
    "\n",
    "---"
   ]
  },
  {
   "cell_type": "code",
   "execution_count": null,
   "metadata": {},
   "outputs": [],
   "source": [
    "# Get the current timestamp in milliseconds\n",
    "current_timestamp = int(time.time() * 1000)\n",
    "\n",
    "# Get the timestamp for 3 months ago\n",
    "three_months_ago = current_timestamp - (3 * 30 * 24 * 60 * 60 * 1000)\n",
    "\n",
    "user_last_login = {}\n",
    "\n",
    "# Iterate over the pro_usernames list\n",
    "for username in pro_usernames:\n",
    "    # Get the user\n",
    "    user = gis.users.get(username)\n",
    "    \n",
    "    # If the user exists and didn't login in the past 3 months or never logged in, add their username and last login date to the dictionary\n",
    "    if user and (user.lastLogin < three_months_ago or user.lastLogin == -1):\n",
    "        # Convert the lastLogin timestamp to a datetime object if the user has logged in before\n",
    "        last_login_date = datetime.fromtimestamp(user.lastLogin / 1000) if user.lastLogin != -1 else None\n",
    "        user_last_login[username] = last_login_date\n",
    "print(user_last_login)"
   ]
  },
  {
   "cell_type": "markdown",
   "metadata": {},
   "source": [
    "---\n",
    "\n",
    "**Cell 5: Checking Inactive Users' Activity**\n",
    "\n",
    "In this final cell, we check if the identified inactive users have published any items within the past three months. This is an additional measure to ensure that the users are indeed inactive, as they might not have logged in but could have been active through API calls or other means.\n",
    "\n",
    "<div style=\"color: red;\">Disclaimer: This piece of code may take a couple of minutes to execute, depending on the size of the organization and the number of items there.</div>\n",
    "\n",
    "---"
   ]
  },
  {
   "cell_type": "code",
   "execution_count": null,
   "metadata": {},
   "outputs": [],
   "source": [
    "non_publishing_usernames = []\n",
    "\n",
    "# Iterate over the pro_usernames list\n",
    "for username in pro_usernames:\n",
    "    user = gis.users.get(username)\n",
    "    \n",
    "    # Get the user's folders\n",
    "    folders = user.folders\n",
    "    folders.append(None)  # Add None to check the root folder\n",
    "    \n",
    "    # Initialize a flag to indicate whether the user has published any items in the past 3 months\n",
    "    has_published_recently = False\n",
    "    \n",
    "    # Iterate over the folders\n",
    "    for folder in folders:\n",
    "        # Get the items in the folder\n",
    "        items = user.items(folder=folder, max_items=100)\n",
    "        \n",
    "        # Check if any item was created in the past 3 months\n",
    "        if any(item['created'] > three_months_ago for item in items):\n",
    "            has_published_recently = True\n",
    "            break\n",
    "    \n",
    "    # If the user hasn't published any items in the past 3 months, add their username to the list\n",
    "    if not has_published_recently:\n",
    "        non_publishing_usernames.append(username)\n",
    "\n",
    "print(non_publishing_usernames)"
   ]
  }
 ],
 "metadata": {
  "kernelspec": {
   "display_name": "Python 3",
   "language": "python",
   "name": "python3"
  },
  "language_info": {
   "codemirror_mode": {
    "name": "ipython",
    "version": 3
   },
   "file_extension": ".py",
   "mimetype": "text/x-python",
   "name": "python",
   "nbconvert_exporter": "python",
   "pygments_lexer": "ipython3",
   "version": "3.9.18"
  }
 },
 "nbformat": 4,
 "nbformat_minor": 2
}
