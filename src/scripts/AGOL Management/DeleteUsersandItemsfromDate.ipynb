{
 "cells": [
  {
   "cell_type": "markdown",
   "metadata": {},
   "source": [
    "# Import Libraries"
   ]
  },
  {
   "cell_type": "code",
   "execution_count": null,
   "metadata": {},
   "outputs": [],
   "source": [
    "from arcgis.gis import GIS\n",
    "import getpass\n",
    "\n",
    "from datetime import datetime, timedelta\n"
   ]
  },
  {
   "cell_type": "markdown",
   "metadata": {},
   "source": [
    "# Connect to AGOL"
   ]
  },
  {
   "cell_type": "code",
   "execution_count": null,
   "metadata": {},
   "outputs": [],
   "source": [
    "# Input username, password and group owner username\n",
    "username = input(\"Enter your username: \")\n",
    "password = getpass.getpass(\"Enter your password: \")\n",
    "\n",
    "\n",
    "# Connect to the GIS\n",
    "gis = GIS(\"https://www.arcgis.com\", username, password)\n"
   ]
  },
  {
   "cell_type": "code",
   "execution_count": null,
   "metadata": {},
   "outputs": [],
   "source": [
    "\n",
    "# Get current time in milliseconds since epoch\n",
    "current_time_ms = int(time.time() * 1000)\n",
    "\n",
    "# Calculate 5 years in milliseconds\n",
    "five_years_in_ms = 5 * 365 * 24 * 60 * 60 * 1000  # Not accounting for leap years for simplicity\n",
    "\n",
    "# Query all users (or as many as possible)\n",
    "all_users = gis.users.search(max_users=10000)  # Adjust max_users as needed\n",
    "\n",
    "# Filter users based on lastLogin\n",
    "users_not_logged_in_5_years = [user for user in all_users if user.lastLogin < (current_time_ms - five_years_in_ms)]\n",
    "\n",
    "# Check the number of users found\n",
    "print(f\"Found {len(users_not_logged_in_5_years)} users who haven't logged in in the last 5 years.\")"
   ]
  },
  {
   "cell_type": "code",
   "execution_count": null,
   "metadata": {},
   "outputs": [],
   "source": [
    "# Assuming users_not_logged_in_5_years is already populated with user objects\n",
    "list_of_user_emails = [user.email for user in users_not_logged_in_5_years if user.email is not None]\n",
    "\n",
    "# Print the list of user emails\n",
    "print(list_of_user_emails)"
   ]
  },
  {
   "cell_type": "markdown",
   "metadata": {},
   "source": [
    "# User items & Groups"
   ]
  },
  {
   "cell_type": "code",
   "execution_count": null,
   "metadata": {},
   "outputs": [],
   "source": [
    "# Initialize dictionaries outside the loop\n",
    "all_member_group_names = {}\n",
    "all_owned_group_names = {}\n",
    "all_item_titles = {}\n",
    "\n",
    "for user_email in list_of_user_emails:\n",
    "    # Get the User object for the current user by email\n",
    "    current_user = gis.users.search(query=f\"email:{user_email}\")[0]  # Assuming the first result is the desired user\n",
    "    username = current_user.username  # Get the username of the current user\n",
    "\n",
    "    # Initialize lists in dictionaries if the username is not already a key\n",
    "    if username not in all_member_group_names:\n",
    "        all_member_group_names[username] = []\n",
    "    if username not in all_owned_group_names:\n",
    "        all_owned_group_names[username] = []\n",
    "    if username not in all_item_titles:\n",
    "        all_item_titles[username] = []\n",
    "\n",
    "    # Get all groups where the current user is a member\n",
    "    member_groups = current_user.groups\n",
    "    # Get all groups owned by the current user\n",
    "    owned_groups = gis.groups.search(query=f\"owner:{username}\")\n",
    "    # Get all items owned by the current user\n",
    "    items = gis.content.search(query=f\"owner:{username}\", max_items=9999)\n",
    "\n",
    "    # Append group names and item titles to the corresponding lists in the dictionaries\n",
    "    all_member_group_names[username].extend([group.title for group in member_groups])\n",
    "    all_owned_group_names[username].extend([group.title for group in owned_groups])\n",
    "    all_item_titles[username].extend([item.title for item in items])"
   ]
  },
  {
   "cell_type": "markdown",
   "metadata": {},
   "source": [
    "# Reassign Items and groups"
   ]
  },
  {
   "cell_type": "code",
   "execution_count": null,
   "metadata": {},
   "outputs": [],
   "source": [
    "# Input new owner username\n",
    "new_owner_username = \"retiredcontent_esriaiddev\"\n",
    "\n",
    "# Initialize a list to store items that fail to reassign\n",
    "failed_items = []\n",
    "\n",
    "# Iterate through the usernames in the dictionary\n",
    "for username in all_owned_group_names.keys():\n",
    "    # Get the User object if not already\n",
    "    current_user = gis.users.get(username)\n",
    "\n",
    "    # Get the new owner User object\n",
    "    new_owner_user = gis.users.get(new_owner_username)\n",
    "\n",
    "    # Prepare the folder for the new owner\n",
    "    folder_name = f\"{username}_items\"\n",
    "    # Check if the folder exists, if not, create it\n",
    "    existing_folders = new_owner_user.folders\n",
    "    folder_names = [folder['title'] for folder in existing_folders]\n",
    "    if folder_name not in folder_names:\n",
    "        gis.content.create_folder(folder=folder_name, owner=new_owner_username)\n",
    "\n",
    "    # Reassign groups to the new owner\n",
    "    for group_title in all_owned_group_names[username]:\n",
    "        # Check if a group with the same name already exists under the new owner\n",
    "        existing_group = gis.groups.search(query=f\"title:{group_title} AND owner:{new_owner_username}\")\n",
    "        if existing_group:\n",
    "            print(f\"Skipping reassignment for group '{group_title}' as it already exists under the new owner.\")\n",
    "            continue  # Skip this group\n",
    "\n",
    "        # Search for the group by title to reassign\n",
    "        group_search_result = gis.groups.search(query=f\"title:{group_title} AND owner:{username}\")\n",
    "        if group_search_result:\n",
    "            group = group_search_result[0]\n",
    "            try:\n",
    "                # Check and disable delete protection if enabled\n",
    "                if group.protected:\n",
    "                    group.protected = False\n",
    "                    print(f\"Delete protection disabled for group '{group_title}'.\")\n",
    "\n",
    "                group.reassign_to(new_owner_username)\n",
    "            except Exception as e:\n",
    "                print(f\"Error reassigning group '{group_title}': {e}\")\n",
    "\n",
    "    for item_title in all_item_titles[username]:\n",
    "        try:\n",
    "            item_search_result = gis.content.search(query=f\"title:{item_title} AND owner:{username}\", max_items=1)\n",
    "            if item_search_result:\n",
    "                item = item_search_result[0]\n",
    "                # Attempt to reassign related views first\n",
    "                views_search_result = gis.content.search(query=f\"type:'Feature Service' AND owner:{username} AND isView:true AND parentItemId:{item.id}\")\n",
    "                for view in views_search_result:\n",
    "                    try:\n",
    "                        view.reassign_to(new_owner_username)\n",
    "                        view.move(folder=folder_name)\n",
    "                        print(f\"Successfully reassigned view {view.title} to {new_owner_username}\")\n",
    "                    except Exception as view_error:\n",
    "                        print(f\"Failed to reassign view {view.title} due to: {view_error}\")\n",
    "                # Now attempt to reassign the main item\n",
    "                item.reassign_to(new_owner_username)\n",
    "                item.move(folder=folder_name)\n",
    "                print(f\"Successfully reassigned {item.title} to {new_owner_username} in folder {folder_name}\")\n",
    "        except Exception as item_error:\n",
    "            print(f\"Failed to reassign {item_title} due to: {item_error}\")\n",
    "            # Add the failed item to the list\n",
    "            failed_items.append((item_title, username))\n",
    "\n",
    "# Optionally, remove the old user from their groups if needed\n",
    "for group_name in all_member_group_names[username]:\n",
    "    group_search_result = gis.groups.search(query=f\"title:{group_name} AND owner:{username}\")\n",
    "    if group_search_result:\n",
    "        group = group_search_result[0]\n",
    "        group.remove_users([username])\n"
   ]
  },
  {
   "cell_type": "code",
   "execution_count": null,
   "metadata": {},
   "outputs": [],
   "source": [
    "for username in all_owned_group_names.keys():\n",
    "    user_groups = gis.groups.search(query=f\"owner:{username}\")\n",
    "    for group in user_groups:\n",
    "        try:\n",
    "            group_title = group.title  # Store the group's title before deletion\n",
    "            if group.protected:\n",
    "                group.protected = False\n",
    "                print(f\"Delete protection disabled for group '{group_title}'.\")\n",
    "            group.delete()\n",
    "            print(f\"Group '{group_title}' deleted successfully.\")  # Use the stored title here\n",
    "        except Exception as e:\n",
    "            if \"Group does not exist or is inaccessible.\" in str(e) or \"Error Code: 400\" in str(e):\n",
    "                print(f\"Group '{group.title}' does not exist or is inaccessible. Skipping.\")\n",
    "            else:\n",
    "                print(f\"Failed to delete group '{group.title}'. Error: {e}\")"
   ]
  },
  {
   "cell_type": "markdown",
   "metadata": {},
   "source": [
    "Run the below code only if you want to delete the unassigned items."
   ]
  },
  {
   "cell_type": "code",
   "execution_count": null,
   "metadata": {},
   "outputs": [],
   "source": [
    "\n",
    "# Attempt to reassign failed items again\n",
    "for item_title, username in failed_items:\n",
    "    try:\n",
    "        item_search_result = gis.content.search(query=f\"title:{item_title} AND owner:{username}\", max_items=1)\n",
    "        if item_search_result:\n",
    "            item = item_search_result[0]\n",
    "            item.reassign_to(new_owner_username)\n",
    "            item.move(folder=folder_name)\n",
    "            print(f\"Successfully reassigned {item_title} to {new_owner_username} in folder {folder_name} on second attempt\")\n",
    "    except Exception as e:\n",
    "        print(f\"Failed to reassign {item_title} on second attempt due to: {e}. Checking for delete protection.\")\n",
    "        # Check for delete protection\n",
    "        if item.protected:\n",
    "            # Disable delete protection\n",
    "            item.protected = False\n",
    "            print(f\"Delete protection disabled for {item_title}.\")\n",
    "        # Attempt to delete the item\n",
    "        try:\n",
    "            item.delete()\n",
    "            print(f\"Item {item_title} deleted successfully.\")\n",
    "        except Exception as delete_error:\n",
    "            print(f\"Failed to delete {item_title} due to: {delete_error}.\")\n",
    "    "
   ]
  },
  {
   "cell_type": "code",
   "execution_count": null,
   "metadata": {},
   "outputs": [],
   "source": [
    "\n",
    "# Extract usernames from the dictionary keys\n",
    "usernames_to_delete = list(all_item_titles.keys())\n",
    "\n",
    "# Iterate through the list of usernames to delete\n",
    "for username in usernames_to_delete:\n",
    "    try:\n",
    "        # Search for the user\n",
    "        user = gis.users.get(username)\n",
    "        if user:\n",
    "            # Optional: Transfer ownership of items before deleting the user\n",
    "            # This step is skipped in this example for brevity\n",
    "\n",
    "            # Delete the user\n",
    "            user.delete()\n",
    "            print(f\"User {username} deleted successfully.\")\n",
    "        else:\n",
    "            print(f\"User {username} not found.\")\n",
    "    except Exception as e:\n",
    "        print(f\"Failed to delete user {username}. Error: {e}\")"
   ]
  }
 ],
 "metadata": {
  "kernelspec": {
   "display_name": "Python 3",
   "language": "python",
   "name": "python3"
  },
  "language_info": {
   "codemirror_mode": {
    "name": "ipython",
    "version": 3
   },
   "file_extension": ".py",
   "mimetype": "text/x-python",
   "name": "python",
   "nbconvert_exporter": "python",
   "pygments_lexer": "ipython3",
   "version": "3.11.8"
  }
 },
 "nbformat": 4,
 "nbformat_minor": 2
}
