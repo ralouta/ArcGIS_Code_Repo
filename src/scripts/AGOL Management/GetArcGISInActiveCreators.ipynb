{
 "cells": [
  {
   "cell_type": "markdown",
   "metadata": {},
   "source": [
    "## General Workflow\n",
    "\n",
    "The code in this Jupyter notebook is designed to identify both active and inactive creators within an ArcGIS Online organization. The workflow is as follows:\n",
    "\n",
    "1. Import necessary libraries.\n",
    "2. Prompt the user to enter their ArcGIS Online credentials.\n",
    "3. Connect to ArcGIS Online using the provided credentials.\n",
    "4. Retrieve all users and their user types.\n",
    "5. Identify users who have the ability to create data (based on their user types).\n",
    "6. Check if these users have published any items within the past six months, have published before but not within the past six months, or have never published any items.\n",
    "\n",
    "---\n",
    "\n",
    "**Cell 1: Importing Libraries**\n",
    "\n",
    "---"
   ]
  },
  {
   "cell_type": "code",
   "execution_count": 1,
   "metadata": {},
   "outputs": [
    {
     "name": "stderr",
     "output_type": "stream",
     "text": [
      "C:\\Users\\rami8629\\AppData\\Roaming\\Python\\Python39\\site-packages\\pandas\\core\\arrays\\masked.py:60: UserWarning: Pandas requires version '1.3.6' or newer of 'bottleneck' (version '1.3.5' currently installed).\n",
      "  from pandas.core import (\n"
     ]
    }
   ],
   "source": [
    "from arcgis.gis import GIS\n",
    "\n",
    "import time\n",
    "from datetime import datetime\n",
    "\n",
    "import getpass"
   ]
  },
  {
   "cell_type": "markdown",
   "metadata": {},
   "source": [
    "---\n",
    "\n",
    "**Cell 2: User Authentication**\n",
    "\n",
    "In this cell, we prompt the user to enter their ArcGIS Online credentials. These credentials are used to establish a connection to ArcGIS Online.\n",
    "\n",
    "---\n"
   ]
  },
  {
   "cell_type": "code",
   "execution_count": 2,
   "metadata": {},
   "outputs": [],
   "source": [
    "username = input(\"Enter your username: \")\n",
    "password = getpass.getpass(\"Enter your password: \")\n",
    "\n",
    "# Connect to ArcGIS Online\n",
    "gis = GIS(\"https://www.arcgis.com\", username, password)\n"
   ]
  },
  {
   "cell_type": "markdown",
   "metadata": {},
   "source": [
    "---\n",
    "\n",
    "**Cell 3: Retrieving Users and Filtering Creators**\n",
    "\n",
    "In this cell, we retrieve all users and their user types. We then identify the users who have the ability to create data based on their user types. The user types that have the ability to create data are 'creatorUT', 'GISProfessionalAdvUT', 'GISProfessionalBasicUT', and 'GISProfessionalStdUT'. We filter out the users who can create data and store their usernames and user types for further processing.\n",
    "\n",
    "\n",
    "---"
   ]
  },
  {
   "cell_type": "code",
   "execution_count": 3,
   "metadata": {},
   "outputs": [],
   "source": [
    "# Get all users\n",
    "all_users = gis.users.search()\n",
    "# Get the usernames and user types\n",
    "usernames_and_usertypes = [(user.username, user.userLicenseTypeId) for user in all_users]\n",
    "\n",
    "# User types that can create data\n",
    "creator_types = ['creatorUT', 'GISProfessionalAdvUT', 'GISProfessionalBasicUT', 'GISProfessionalStdUT']\n",
    "\n",
    "# Filter users who can create data\n",
    "users_can_create_data = [user for user in usernames_and_usertypes if user[1] in creator_types]"
   ]
  },
  {
   "cell_type": "markdown",
   "metadata": {},
   "source": [
    "---\n",
    "\n",
    "**Cell 4: Identifying Active, Inactive, and Never Published Users**\n",
    "\n",
    "In this cell, we identify active, inactive, and never published users among those who can create data. We first get the current timestamp and the timestamp for six months ago. We then initialize three lists: one for users who added items in the past six months (active users), one for users who didn't add items in the past six months but have published before (inactive users), and one for users who have never published any items.\n",
    "\n",
    "We iterate over the users who can create data. For each user, we get their folders (including the root folder) and the items in each folder. We check if any item was created in the past six months. If so, the user is considered active and is added to the list of users who added items. If not, we check if the user has ever published any items. If they have, they are considered inactive and are added to the list of users who didn't add items. If they have never published any items, they are added to the list of users who never published.\n",
    "\n",
    "Finally, we print the usernames and user types of active, inactive, and never published users.\n",
    "\n",
    "<div style=\"color: red;\">Disclaimer: This piece of code may take a couple of minutes to execute, depending on the size of the organization and the number of users there.</div>\n",
    "\n",
    "---"
   ]
  },
  {
   "cell_type": "code",
   "execution_count": 4,
   "metadata": {},
   "outputs": [
    {
     "name": "stdout",
     "output_type": "stream",
     "text": [
      "Users who added items in the past 6 months:\n",
      "Username: akim.aiddev, User Type: creatorUT\n",
      "Username: apfister_EsriAidDev, User Type: creatorUT\n",
      "Username: avazquezgbd, User Type: creatorUT\n",
      "Username: cterborgh_aid, User Type: creatorUT\n",
      "Username: hdenoord_esriaiddev, User Type: creatorUT\n",
      "Username: ltroup_EsriAidDev, User Type: creatorUT\n",
      "Username: ralouta.aiddev, User Type: creatorUT\n",
      "Username: ssawaya_aid, User Type: creatorUT\n",
      "Username: vdesrosier_esriaiddev, User Type: GISProfessionalAdvUT\n",
      "Username: ykandula.esriaiddev, User Type: creatorUT\n",
      "\n",
      "Users who didn't add items in the past 6 months but have published before:\n",
      "Username: AidDevService, User Type: creatorUT\n",
      "Username: ajenkins_EsriAidDev, User Type: creatorUT\n",
      "Username: amakowicki_aid, User Type: GISProfessionalAdvUT\n",
      "Username: bmccardle_aid, User Type: GISProfessionalAdvUT\n",
      "Username: boneill.aid, User Type: creatorUT\n",
      "Username: bstayer_EsriAidDev, User Type: creatorUT\n",
      "Username: cbrigham_aid, User Type: creatorUT\n",
      "Username: ckiefer_EsriAidDev, User Type: creatorUT\n",
      "Username: collab.aid, User Type: creatorUT\n",
      "Username: croland_EsriAidDev, User Type: creatorUT\n",
      "Username: dgadsden_aid2, User Type: creatorUT\n",
      "Username: dkochhar_EsriAidDev, User Type: creatorUT\n",
      "Username: dmarsh_aiddev, User Type: creatorUT\n",
      "Username: EsriAidDev, User Type: creatorUT\n",
      "Username: ESwenson_EsriAidDev, User Type: creatorUT\n",
      "Username: hturvene_EsriAidDev, User Type: GISProfessionalAdvUT\n",
      "Username: jack_esriaid, User Type: creatorUT\n",
      "Username: jmunyao.aid, User Type: creatorUT\n",
      "Username: jvandeusen_aid, User Type: creatorUT\n",
      "Username: jvaughangibson_EsriAidDev, User Type: creatorUT\n",
      "Username: jyoon.aid, User Type: creatorUT\n",
      "Username: katia.aid, User Type: creatorUT\n",
      "Username: ksmyth_aid, User Type: creatorUT\n",
      "Username: lczerwinski.aiddev, User Type: creatorUT\n",
      "Username: ltodd.eadev, User Type: creatorUT\n",
      "Username: mburger_EsriAidDev, User Type: creatorUT\n",
      "Username: mmusgrave_aid, User Type: creatorUT\n",
      "Username: slibby_EsriAidDev, User Type: creatorUT\n",
      "Username: tbutcher_EsriAidDev, User Type: creatorUT\n",
      "Username: toaks_aid, User Type: creatorUT\n",
      "\n",
      "Users who never published any items:\n",
      "Username: aclayton_esriaiddev, User Type: creatorUT\n",
      "Username: aiddev_admin, User Type: creatorUT\n",
      "Username: apfister, User Type: creatorUT\n",
      "Username: bladds_EsriAidDev, User Type: creatorUT\n",
      "Username: boneill.geong, User Type: creatorUT\n",
      "Username: Brij_Student, User Type: creatorUT\n",
      "Username: ccleveland_EsriAidDev, User Type: creatorUT\n",
      "Username: ckwon_organization, User Type: creatorUT\n",
      "Username: cmain_EsriAidDev, User Type: creatorUT\n",
      "Username: cmarietta_EsriAidDev, User Type: creatorUT\n",
      "Username: cmesserich_aid, User Type: creatorUT\n",
      "Username: corporon_aiddev, User Type: creatorUT\n",
      "Username: dsmetana_aid, User Type: creatorUT\n",
      "Username: Firas_EsriAidDev, User Type: creatorUT\n",
      "Username: Guest_EsriAidDev3, User Type: creatorUT\n",
      "Username: jbaranyi_esriaiddev, User Type: creatorUT\n",
      "Username: jbell.aid, User Type: creatorUT\n",
      "Username: jchavez_EsriAidDev, User Type: creatorUT\n",
      "Username: jhughes_EsriAidDev, User Type: creatorUT\n",
      "Username: jlaws.aid, User Type: creatorUT\n",
      "Username: jpedder_esriaiddev, User Type: creatorUT\n",
      "Username: khw.aid, User Type: creatorUT\n",
      "Username: kpickett_esriaiddev, User Type: creatorUT\n",
      "Username: linxuelin_aiddev, User Type: creatorUT\n",
      "Username: lndungo_EsriAidDev, User Type: creatorUT\n",
      "Username: lowen_aid, User Type: creatorUT\n",
      "Username: lzhang.aid, User Type: creatorUT\n",
      "Username: MDONOVAN_EsriAidDev, User Type: creatorUT\n",
      "Username: mseybert_EsriAidDev, User Type: creatorUT\n",
      "Username: niklasg_EsriAidDev, User Type: creatorUT\n",
      "Username: npgo_user_aiddev, User Type: creatorUT\n",
      "Username: pcummens_esriaiddev, User Type: creatorUT\n",
      "Username: phornstein_aid, User Type: creatorUT\n",
      "Username: rdonihue_esriaiddev, User Type: creatorUT\n",
      "Username: rdonihue_EsriAidDev4, User Type: creatorUT\n",
      "Username: rgreenebaum_EsriAidDev, User Type: creatorUT\n",
      "Username: rrike_esriaiddev, User Type: creatorUT\n",
      "Username: slunderville_EsriAid, User Type: creatorUT\n",
      "Username: speluso_aid, User Type: creatorUT\n",
      "Username: vlusetti_EsriAidDev, User Type: creatorUT\n",
      "Username: wmo.viewer, User Type: creatorUT\n",
      "Username: ymelgarejo_esriaiddev, User Type: creatorUT\n"
     ]
    }
   ],
   "source": [
    "# Get the current timestamp in milliseconds\n",
    "current_timestamp = int(time.time() * 1000)\n",
    "\n",
    "# Get the timestamp for 6 months ago\n",
    "six_months_ago = current_timestamp - (6 * 30 * 24 * 60 * 60 * 1000)\n",
    "\n",
    "# Initialize lists for users who added items in the past 6 months, those who didn't, and those who never published\n",
    "users_added_items = []\n",
    "users_didnt_add_items = []\n",
    "users_never_published = []\n",
    "\n",
    "# Iterate over the users who can create data\n",
    "for username, usertype in users_can_create_data:\n",
    "    # Get the user\n",
    "    user = gis.users.get(username)\n",
    "    \n",
    "    # Get the user's folders\n",
    "    folders = user.folders\n",
    "    folders.append(None)  # Add None to check the root folder\n",
    "    \n",
    "    # Initialize a flag to indicate whether the user has published any items in the past 6 months\n",
    "    has_published_recently = False\n",
    "    # Initialize a flag to indicate whether the user has ever published any items\n",
    "    has_ever_published = False\n",
    "    \n",
    "    # Iterate over the folders\n",
    "    for folder in folders:\n",
    "        # Get the items in the folder\n",
    "        items = user.items(folder=folder, max_items=100)\n",
    "        \n",
    "        # Check if any item was created in the past 6 months\n",
    "        if any(item['created'] > six_months_ago for item in items):\n",
    "            has_published_recently = True\n",
    "            has_ever_published = True\n",
    "            break\n",
    "        # Check if the user has ever published any items\n",
    "        elif items:\n",
    "            has_ever_published = True\n",
    "    \n",
    "    # Add the user to the appropriate list\n",
    "    if has_published_recently:\n",
    "        users_added_items.append((username, usertype))\n",
    "    elif has_ever_published:\n",
    "        users_didnt_add_items.append((username, usertype))\n",
    "    else:\n",
    "        users_never_published.append((username, usertype))\n",
    "\n",
    "# Print usernames and user types of users who added items in the past 6 months, those who didn't, and those who never published\n",
    "print(\"Users who added items in the past 6 months:\")\n",
    "for username, usertype in users_added_items:\n",
    "    print(f\"Username: {username}, User Type: {usertype}\")\n",
    "\n",
    "print(\"\\nUsers who didn't add items in the past 6 months but have published before:\")\n",
    "for username, usertype in users_didnt_add_items:\n",
    "    print(f\"Username: {username}, User Type: {usertype}\")\n",
    "\n",
    "print(\"\\nUsers who never published any items:\")\n",
    "for username, usertype in users_never_published:\n",
    "    print(f\"Username: {username}, User Type: {usertype}\")"
   ]
  },
  {
   "cell_type": "markdown",
   "metadata": {},
   "source": [
    "---\n",
    "\n",
    "**Cell 5: Printing the Number of Active, Inactive, and Never Published Users**\n",
    "\n",
    "This code snippet prints the number of users in each category: active, inactive, and never published. \n",
    "\n",
    "---\n"
   ]
  },
  {
   "cell_type": "code",
   "execution_count": 5,
   "metadata": {},
   "outputs": [
    {
     "name": "stdout",
     "output_type": "stream",
     "text": [
      "In the organization 'Esri Aid & Development Team', the number of users who added items in the past 6 months: 10\n",
      "In the organization 'Esri Aid & Development Team', the number of users who didn't add items in the past 6 months but have published before: 30\n",
      "In the organization 'Esri Aid & Development Team', the number of users who never published any items: 42\n"
     ]
    }
   ],
   "source": [
    "# Get the organization name\n",
    "org_name = gis.properties.name\n",
    "\n",
    "print(f\"In the organization '{org_name}', the number of users who added items in the past 6 months: {len(users_added_items)}\")\n",
    "print(f\"In the organization '{org_name}', the number of users who didn't add items in the past 6 months but have published before: {len(users_didnt_add_items)}\")\n",
    "print(f\"In the organization '{org_name}', the number of users who never published any items: {len(users_never_published)}\")"
   ]
  }
 ],
 "metadata": {
  "kernelspec": {
   "display_name": "Python 3",
   "language": "python",
   "name": "python3"
  },
  "language_info": {
   "codemirror_mode": {
    "name": "ipython",
    "version": 3
   },
   "file_extension": ".py",
   "mimetype": "text/x-python",
   "name": "python",
   "nbconvert_exporter": "python",
   "pygments_lexer": "ipython3",
   "version": "3.9.18"
  }
 },
 "nbformat": 4,
 "nbformat_minor": 2
}
