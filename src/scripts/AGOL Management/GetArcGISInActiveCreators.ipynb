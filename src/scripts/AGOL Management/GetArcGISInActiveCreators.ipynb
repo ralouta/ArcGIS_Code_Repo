{
 "cells": [
  {
   "cell_type": "markdown",
   "metadata": {},
   "source": [
    "## General Workflow\n",
    "\n",
    "The code in this Jupyter notebook is designed to identify both active and inactive creators within an ArcGIS Online organization. The workflow is as follows:\n",
    "\n",
    "1. Import necessary libraries.\n",
    "2. Prompt the user to enter their ArcGIS Online credentials.\n",
    "3. Connect to ArcGIS Online using the provided credentials.\n",
    "4. Retrieve all users and their user types.\n",
    "5. Identify users who have the ability to create data (based on their user types).\n",
    "6. Check if these users have published any items within the past six months, have published before but not within the past six months, or have never published any items.\n",
    "\n",
    "---\n",
    "\n",
    "**Cell 1: Importing Libraries**\n",
    "\n",
    "---"
   ]
  },
  {
   "cell_type": "code",
   "execution_count": 1,
   "metadata": {},
   "outputs": [],
   "source": [
    "from arcgis.gis import GIS\n",
    "\n",
    "import time\n",
    "from datetime import datetime\n",
    "\n",
    "import getpass"
   ]
  },
  {
   "cell_type": "markdown",
   "metadata": {},
   "source": [
    "---\n",
    "\n",
    "**Cell 2: User Authentication**\n",
    "\n",
    "In this cell, we prompt the user to enter their ArcGIS Online credentials. These credentials are used to establish a connection to ArcGIS Online.\n",
    "\n",
    "---\n"
   ]
  },
  {
   "cell_type": "code",
   "execution_count": 2,
   "metadata": {},
   "outputs": [],
   "source": [
    "username = input(\"Enter your username: \")\n",
    "password = getpass.getpass(\"Enter your password: \")\n",
    "\n",
    "# Connect to ArcGIS Online\n",
    "gis = GIS(\"https://www.arcgis.com\", username, password)\n"
   ]
  },
  {
   "cell_type": "markdown",
   "metadata": {},
   "source": [
    "---\n",
    "\n",
    "**Cell 3: Retrieving Users and Filtering Creators**\n",
    "\n",
    "In this cell, we retrieve all users and their user types. We then identify the users who have the ability to create data based on their user types. The user types that have the ability to create data are 'creatorUT', 'GISProfessionalAdvUT', 'GISProfessionalBasicUT', and 'GISProfessionalStdUT'. We filter out the users who can create data and store their usernames and user types for further processing.\n",
    "\n",
    "\n",
    "---"
   ]
  },
  {
   "cell_type": "code",
   "execution_count": 3,
   "metadata": {},
   "outputs": [],
   "source": [
    "# Get all users\n",
    "all_users = gis.users.search()\n",
    "# Get the usernames and user types\n",
    "usernames_and_usertypes = [(user.username, user.userLicenseTypeId) for user in all_users]\n",
    "\n",
    "# User types that can create data\n",
    "creator_types = ['creatorUT', 'GISProfessionalAdvUT', 'GISProfessionalBasicUT', 'GISProfessionalStdUT']\n",
    "\n",
    "# Filter users who can create data\n",
    "users_can_create_data = [user for user in usernames_and_usertypes if user[1] in creator_types]"
   ]
  },
  {
   "cell_type": "markdown",
   "metadata": {},
   "source": [
    "---\n",
    "\n",
    "**Cell 4: Identifying Active, Inactive, and Never Published Users**\n",
    "\n",
    "In this cell, we identify active, inactive, and never published users among those who can create data. We first get the current timestamp and the timestamp for six months ago. We then initialize three lists: one for users who added items in the past six months (active users), one for users who didn't add items in the past six months but have published before (inactive users), and one for users who have never published any items.\n",
    "\n",
    "We iterate over the users who can create data. For each user, we get their folders (including the root folder) and the items in each folder. We check if any item was created in the past six months. If so, the user is considered active and is added to the list of users who added items. If not, we check if the user has ever published any items. If they have, they are considered inactive and are added to the list of users who didn't add items. If they have never published any items, they are added to the list of users who never published.\n",
    "\n",
    "Finally, we print the usernames and user types of active, inactive, and never published users.\n",
    "\n",
    "<div style=\"color: red;\">Disclaimer: This piece of code may take a couple of minutes to execute, depending on the size of the organization and the number of users there.</div>\n",
    "\n",
    "---"
   ]
  },
  {
   "cell_type": "code",
   "execution_count": null,
   "metadata": {},
   "outputs": [],
   "source": [
    "# Get the current timestamp in milliseconds\n",
    "current_timestamp = int(time.time() * 1000)\n",
    "\n",
    "# Get the timestamp for 6 months ago\n",
    "six_months_ago = current_timestamp - (6 * 30 * 24 * 60 * 60 * 1000)\n",
    "\n",
    "# Initialize lists for users who added items in the past 6 months, those who didn't, and those who never published\n",
    "users_added_items = []\n",
    "users_didnt_add_items = []\n",
    "users_never_published = []\n",
    "\n",
    "# Iterate over the users who can create data\n",
    "for username, usertype in users_can_create_data:\n",
    "    # Get the user\n",
    "    user = gis.users.get(username)\n",
    "    \n",
    "    # Get the user's folders\n",
    "    folders = user.folders\n",
    "    folders.append(None)  # Add None to check the root folder\n",
    "    \n",
    "    # Initialize a flag to indicate whether the user has published any items in the past 6 months\n",
    "    has_published_recently = False\n",
    "    # Initialize a flag to indicate whether the user has ever published any items\n",
    "    has_ever_published = False\n",
    "    \n",
    "    # Iterate over the folders\n",
    "    for folder in folders:\n",
    "        # Get the items in the folder\n",
    "        items = user.items(folder=folder, max_items=100)\n",
    "        \n",
    "        # Check if any item was created in the past 6 months\n",
    "        if any(item['created'] > six_months_ago for item in items):\n",
    "            has_published_recently = True\n",
    "            has_ever_published = True\n",
    "            break\n",
    "        # Check if the user has ever published any items\n",
    "        elif items:\n",
    "            has_ever_published = True\n",
    "    \n",
    "    # Add the user to the appropriate list\n",
    "    if has_published_recently:\n",
    "        users_added_items.append((username, usertype))\n",
    "    elif has_ever_published:\n",
    "        users_didnt_add_items.append((username, usertype))\n",
    "    else:\n",
    "        users_never_published.append((username, usertype))\n",
    "\n",
    "# Print usernames and user types of users who added items in the past 6 months, those who didn't, and those who never published\n",
    "print(\"Users who added items in the past 6 months:\")\n",
    "for username, usertype in users_added_items:\n",
    "    print(f\"Username: {username}, User Type: {usertype}\")\n",
    "\n",
    "print(\"\\nUsers who didn't add items in the past 6 months but have published before:\")\n",
    "for username, usertype in users_didnt_add_items:\n",
    "    print(f\"Username: {username}, User Type: {usertype}\")\n",
    "\n",
    "print(\"\\nUsers who never published any items:\")\n",
    "for username, usertype in users_never_published:\n",
    "    print(f\"Username: {username}, User Type: {usertype}\")"
   ]
  },
  {
   "cell_type": "markdown",
   "metadata": {},
   "source": [
    "---\n",
    "\n",
    "**Cell 5: Printing the Number of Active, Inactive, and Never Published Users**\n",
    "\n",
    "This code snippet prints the number of users in each category: active, inactive, and never published. \n",
    "\n",
    "---\n"
   ]
  },
  {
   "cell_type": "code",
   "execution_count": null,
   "metadata": {},
   "outputs": [],
   "source": [
    "# Get the organization name\n",
    "org_name = gis.properties.name\n",
    "\n",
    "print(f\"In the organization '{org_name}', the number of users who added items in the past 6 months: {len(users_added_items)}\")\n",
    "print(f\"In the organization '{org_name}', the number of users who didn't add items in the past 6 months but have published before: {len(users_didnt_add_items)}\")\n",
    "print(f\"In the organization '{org_name}', the number of users who never published any items: {len(users_never_published)}\")"
   ]
  }
 ],
 "metadata": {
  "kernelspec": {
   "display_name": "Python 3",
   "language": "python",
   "name": "python3"
  },
  "language_info": {
   "codemirror_mode": {
    "name": "ipython",
    "version": 3
   },
   "file_extension": ".py",
   "mimetype": "text/x-python",
   "name": "python",
   "nbconvert_exporter": "python",
   "pygments_lexer": "ipython3",
   "version": "3.11.8"
  }
 },
 "nbformat": 4,
 "nbformat_minor": 2
}
