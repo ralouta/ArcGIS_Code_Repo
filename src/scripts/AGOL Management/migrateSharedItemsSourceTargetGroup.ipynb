{
 "cells": [
  {
   "cell_type": "code",
   "execution_count": 1,
   "metadata": {},
   "outputs": [],
   "source": [
    "from arcgis.gis import GIS\n",
    "import getpass"
   ]
  },
  {
   "cell_type": "code",
   "execution_count": 2,
   "metadata": {},
   "outputs": [],
   "source": [
    "# Input username, password and group owner username\n",
    "username = input(\"Enter your username: \")\n",
    "password = getpass.getpass(\"Enter your password: \")\n",
    "\n",
    "# Connect to the GIS\n",
    "gis = GIS(\"https://www.arcgis.com\", username, password)\n"
   ]
  },
  {
   "cell_type": "code",
   "execution_count": 3,
   "metadata": {},
   "outputs": [
    {
     "name": "stdout",
     "output_type": "stream",
     "text": [
      "Failed to share item e7c87158914b4151a7988d7c9e951c8e: Item has a Relationship Type that does not allow this.\n",
      "(Error Code: 500)\n",
      "Failed to share item 7450492579d74426acbffc47c42a465c: Item has a Relationship Type that does not allow this.\n",
      "(Error Code: 500)\n"
     ]
    }
   ],
   "source": [
    "# Source and target group IDs\n",
    "source_group_id = 'f56d8b3dbdc945d7a9ecd459be641a87'\n",
    "target_group_id = '92acc0d6277843bfb3f23f37c1057118'\n",
    "\n",
    "# Get the source and target groups\n",
    "source_group = gis.groups.get(source_group_id)\n",
    "target_group = gis.groups.get(target_group_id)\n",
    "\n",
    "# Get all items shared with the source group\n",
    "source_group_items = source_group.content()\n",
    "\n",
    "# Share each item with the target group\n",
    "for item in source_group_items:\n",
    "    try:\n",
    "        item.share(groups=target_group_id)\n",
    "    except Exception as e:\n",
    "        print(f\"Failed to share item {item.id}: {e}\")"
   ]
  }
 ],
 "metadata": {
  "kernelspec": {
   "display_name": "Python 3",
   "language": "python",
   "name": "python3"
  },
  "language_info": {
   "codemirror_mode": {
    "name": "ipython",
    "version": 3
   },
   "file_extension": ".py",
   "mimetype": "text/x-python",
   "name": "python",
   "nbconvert_exporter": "python",
   "pygments_lexer": "ipython3",
   "version": "3.9.18"
  }
 },
 "nbformat": 4,
 "nbformat_minor": 2
}
