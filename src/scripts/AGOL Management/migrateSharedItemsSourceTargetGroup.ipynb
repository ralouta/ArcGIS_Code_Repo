{
 "cells": [
  {
   "cell_type": "code",
   "execution_count": null,
   "metadata": {},
   "outputs": [],
   "source": [
    "from arcgis.gis import GIS\n",
    "import getpass"
   ]
  },
  {
   "cell_type": "code",
   "execution_count": null,
   "metadata": {},
   "outputs": [],
   "source": [
    "# Input username, password and group owner username\n",
    "username = input(\"Enter your username: \")\n",
    "password = getpass.getpass(\"Enter your password: \")\n",
    "\n",
    "# Connect to the GIS\n",
    "gis = GIS(\"https://www.arcgis.com\", username, password)\n"
   ]
  },
  {
   "cell_type": "code",
   "execution_count": null,
   "metadata": {},
   "outputs": [],
   "source": [
    "# Source and target group IDs\n",
    "source_group_id = 'source_group_id'\n",
    "target_group_id = 'taret_group_id'\n",
    "\n",
    "# Get the source and target groups\n",
    "source_group = gis.groups.get(source_group_id)\n",
    "target_group = gis.groups.get(target_group_id)\n",
    "\n",
    "# Get all items shared with the source group\n",
    "source_group_items = source_group.content()\n",
    "\n",
    "# Share each item with the target group\n",
    "for item in source_group_items:\n",
    "    try:\n",
    "        item.share(groups=target_group_id)\n",
    "    except Exception as e:\n",
    "        print(f\"Failed to share item {item.id}: {e}\")"
   ]
  }
 ],
 "metadata": {
  "kernelspec": {
   "display_name": "Python 3",
   "language": "python",
   "name": "python3"
  },
  "language_info": {
   "codemirror_mode": {
    "name": "ipython",
    "version": 3
   },
   "file_extension": ".py",
   "mimetype": "text/x-python",
   "name": "python",
   "nbconvert_exporter": "python",
   "pygments_lexer": "ipython3",
   "version": "3.9.18"
  }
 },
 "nbformat": 4,
 "nbformat_minor": 2
}
