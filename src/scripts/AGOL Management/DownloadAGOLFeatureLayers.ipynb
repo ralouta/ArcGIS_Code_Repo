{
 "cells": [
  {
   "cell_type": "markdown",
   "metadata": {},
   "source": [
    "# Download All Feature Layers from ArcGIS Online\n",
    "\n",
    "This notebook demonstrates how to:\n",
    "1. Import Libraries and Sign in to ArcGIS Online using your credentials.\n",
    "2. Query all feature layers available in your organization.\n",
    "3. Save Feature Layer information to a local csv.\n",
    "4. Export and Download FGDBs to a local folder.\n",
    "5. Delete exported ArcGIS Online FGDB.\n",
    "\n",
    "The notebook uses the `arcgis` Python API to interact with ArcGIS Online."
   ]
  },
  {
   "cell_type": "markdown",
   "metadata": {},
   "source": [
    "## Step 1: Import Required Libraries & Sign in to ArcGIS Online\n",
    "\n",
    "\n",
    "Use your ArcGIS Online credentials to sign in. The `getpass` library is used to securely input your password. The `GIS` object from the `arcgis` library is used to establish the connection."
   ]
  },
  {
   "cell_type": "code",
   "execution_count": null,
   "metadata": {},
   "outputs": [],
   "source": [
    "import os\n",
    "import getpass\n",
    "import pandas as pd\n",
    "from arcgis.gis import GIS\n",
    "from datetime import datetime"
   ]
  },
  {
   "cell_type": "code",
   "execution_count": null,
   "metadata": {},
   "outputs": [],
   "source": [
    "\n",
    "# Sign in to ArcGIS Online\n",
    "username = input(\"Enter your ArcGIS Online username: \")\n",
    "password = getpass.getpass(\"Enter your ArcGIS Online password: \")\n",
    "gis = GIS(\"https://www.arcgis.com\", username, password, verify_cert=False)\n"
   ]
  },
  {
   "cell_type": "markdown",
   "metadata": {},
   "source": [
    "## Step 2: Query Feature Layers\n",
    "\n",
    "Search for all feature layers in your ArcGIS Online organization. The `search` method of the `GIS` object is used to retrieve items of type `Feature Layer`. Metadata such as the layer ID, name, description, owner, creation date, modification date, and URL is extracted and stored in a list."
   ]
  },
  {
   "cell_type": "code",
   "execution_count": null,
   "metadata": {},
   "outputs": [],
   "source": [
    "fl_content = gis.content.search('Feature Layer', max_items=9999)\n",
    "\n",
    "print(f\"Feature Layer count: {len(fl_content)}\")"
   ]
  },
  {
   "cell_type": "markdown",
   "metadata": {},
   "source": [
    "## Step 3: Create and Save DataFrame\n",
    "The metadata of the queried feature layers is organized into a pandas DataFrame for easy viewing and manipulation. The DataFrame includes the following columns:\n",
    "- `id`: The unique ID of the feature layer.\n",
    "- `name`: The name of the feature layer.\n",
    "- `description`: A brief description of the feature layer.\n",
    "- `owner`: The owner of the feature layer.\n",
    "- `created`: The creation date of the feature layer (in DD/MM/YYYY format).\n",
    "- `modified`: The last modification date of the feature layer (in DD/MM/YYYY format).\n",
    "- `url`: The URL of the feature layer.\n",
    "\n",
    "The DataFrame is then saved to a CSV file named `feature_layers_metadata.csv` for future reference.\n"
   ]
  },
  {
   "cell_type": "code",
   "execution_count": null,
   "metadata": {},
   "outputs": [],
   "source": [
    "\n",
    "# Query all feature layers in the organization\n",
    "print(\"Querying feature layers...\")\n",
    "feature_layers = []\n",
    "for item in fl_content:\n",
    "    if \"Feature\" in item.type:\n",
    "        feature_layers.append({\n",
    "            \"id\": item.id,\n",
    "            \"name\": item.title,\n",
    "            \"description\": item.description,\n",
    "            \"owner\": item.owner,\n",
    "            \"created\": datetime.utcfromtimestamp(item.created / 1000).strftime('%d/%m/%Y'),\n",
    "            \"modified\": datetime.utcfromtimestamp(item.modified / 1000).strftime('%d/%m/%Y'),\n",
    "            \"url\": item.url\n",
    "        })\n",
    "\n",
    "# Create a DataFrame with metadata\n",
    "df = pd.DataFrame(feature_layers)\n",
    "df.head()\n"
   ]
  },
  {
   "cell_type": "code",
   "execution_count": null,
   "metadata": {},
   "outputs": [],
   "source": [
    "# Save the metadata to a CSV file\n",
    "print(\"Saving metadata to CSV...\")\n",
    "df.to_csv(\"feature_layers_metadata.csv\", index=False)\n",
    "print(\"Metadata saved to feature_layers_metadata.csv\")"
   ]
  },
  {
   "cell_type": "markdown",
   "metadata": {},
   "source": [
    "## Step 4: Export and Download Feature Layers\n",
    "\n",
    "A local folder named `downloads` is created in the current working directory. This folder will be used to store the downloaded FGDBs.\n",
    "\n",
    "Each feature layer is exported as a File Geodatabase (FGDB) using the `export` method of the `Item` object. The exported FGDB is then downloaded to the `downloads` folder. After the download is complete, the exported item is deleted to clean up resources in ArcGIS Online.\n",
    "\n",
    "### Error Handling\n",
    "If an error occurs during the export or download process, it is caught and logged, allowing the script to continue processing the remaining feature layers."
   ]
  },
  {
   "cell_type": "code",
   "execution_count": null,
   "metadata": {},
   "outputs": [],
   "source": [
    "# Create a local download folder in the current notebook directory\n",
    "download_folder = os.path.join(os.getcwd(), \"downloads\")\n",
    "os.makedirs(download_folder, exist_ok=True)\n",
    "\n",
    "# Export and download each feature layer as an FGDB\n",
    "print(\"Exporting and downloading feature layers...\")\n",
    "for index, row in df.head().iterrows(): \n",
    "    try:\n",
    "        item = gis.content.get(row[\"id\"])\n",
    "        print(f\"Exporting {row['name']}...\")\n",
    "        export_item = item.export(title=f\"{row['name']}_FGDB\", export_format=\"File Geodatabase\")\n",
    "        print(f\"Downloading {row['name']}...\")\n",
    "        export_item.download(save_path=download_folder)\n",
    "        export_item.delete()  # Clean up the export item after download\n",
    "        print(f\"Downloaded {row['name']} to {download_folder}\")\n",
    "    except Exception as e:\n",
    "        print(f\"Failed to export or download {row['name']}: {e}\")\n",
    "\n",
    "print(\"All feature layers processed.\")\n"
   ]
  },
  {
   "cell_type": "markdown",
   "metadata": {},
   "source": [
    "## Conclusion\n",
    "\n",
    "This notebook provides a complete workflow for downloading all feature layers from ArcGIS Online as FGDBs. The downloaded FGDBs are stored in a local folder for further use. The process is automated and handles errors gracefully, ensuring that all accessible feature layers are processed."
   ]
  }
 ],
 "metadata": {
  "kernelspec": {
   "display_name": "Python 3",
   "language": "python",
   "name": "python3"
  },
  "language_info": {
   "codemirror_mode": {
    "name": "ipython",
    "version": 3
   },
   "file_extension": ".py",
   "mimetype": "text/x-python",
   "name": "python",
   "nbconvert_exporter": "python",
   "pygments_lexer": "ipython3",
   "version": "3.11.10"
  }
 },
 "nbformat": 4,
 "nbformat_minor": 2
}
