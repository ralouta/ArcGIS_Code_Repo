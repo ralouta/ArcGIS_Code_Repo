{
 "cells": [
  {
   "cell_type": "code",
   "execution_count": null,
   "metadata": {},
   "outputs": [],
   "source": [
    "import arcpy\n",
    "import os\n",
    "\n",
    "# Get the current project\n",
    "aprx = arcpy.mp.ArcGISProject(\"CURRENT\")\n",
    "\n",
    "# Get the active map (assuming you want the first one)\n",
    "map = aprx.listMaps()[0]\n",
    "\n",
    "# Set the output path for the file geodatabase\n",
    "out_gdb = r\"<place_holder_path_for_gdb_egdb>\"\n",
    "\n",
    "# Loop through each layer in the Table of Contents\n",
    "for layer in map.listLayers():\n",
    "\n",
    "    # Check if the layer is a FeatureLayer\n",
    "    if isinstance(layer, arcpy._mp.Layer) and layer.isFeatureLayer:\n",
    "\n",
    "        # Replace spaces with underscores in the layer name\n",
    "        out_name = layer.name.replace(\" \", \"_\")\n",
    "\n",
    "        # Define out_item as the output path for the feature\n",
    "        out_item = os.path.join(out_gdb, out_name)\n",
    "\n",
    "        # Create a new feature class in the output geodatabase with the same data\n",
    "        arcpy.conversion.ExportFeatures(\n",
    "            in_features=layer.name,\n",
    "            out_features=out_item,\n",
    "            where_clause=\"\",\n",
    "            use_field_alias_as_name=\"USE_ALIAS\",\n",
    "            sort_field=None\n",
    "        )\n",
    "\n",
    "# Loop through each table in the Table of Contents\n",
    "for table in map.listTables():\n",
    "\n",
    "    # Replace spaces with underscores in the table name\n",
    "    out_name = table.name.replace(\" \", \"_\")\n",
    "\n",
    "    # Get the table view associated with the table\n",
    "    tv = table.dataSource\n",
    "\n",
    "    # Create a new table in the output geodatabase with the same data\n",
    "    arcpy.TableToTable_conversion(tv, out_gdb, out_name)\n",
    "\n",
    "print(\"Export completed.\")"
   ]
  }
 ],
 "metadata": {
  "language_info": {
   "name": "python"
  },
  "orig_nbformat": 4
 },
 "nbformat": 4,
 "nbformat_minor": 2
}
