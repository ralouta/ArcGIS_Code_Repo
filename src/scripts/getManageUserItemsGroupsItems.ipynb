{
 "cells": [
  {
   "cell_type": "markdown",
   "metadata": {},
   "source": [
    "# Import Libraries"
   ]
  },
  {
   "cell_type": "code",
   "execution_count": 1,
   "metadata": {},
   "outputs": [
    {
     "name": "stderr",
     "output_type": "stream",
     "text": [
      "C:\\Users\\rami8629\\AppData\\Roaming\\Python\\Python39\\site-packages\\pandas\\core\\arrays\\masked.py:60: UserWarning: Pandas requires version '1.3.6' or newer of 'bottleneck' (version '1.3.5' currently installed).\n",
      "  from pandas.core import (\n"
     ]
    }
   ],
   "source": [
    "from arcgis.gis import GIS\n",
    "import getpass"
   ]
  },
  {
   "cell_type": "markdown",
   "metadata": {},
   "source": [
    "# Connect to AGOL"
   ]
  },
  {
   "cell_type": "code",
   "execution_count": 2,
   "metadata": {},
   "outputs": [],
   "source": [
    "# Input username, password and group owner username\n",
    "username = input(\"Enter your username: \")\n",
    "password = getpass.getpass(\"Enter your password: \")\n",
    "group_owner_username = input(\"Enter group & items owner username: \")\n",
    "\n",
    "# Connect to the GIS\n",
    "gis = GIS(\"https://www.arcgis.com\", username, password)\n"
   ]
  },
  {
   "cell_type": "markdown",
   "metadata": {},
   "source": [
    "# User items & Groups"
   ]
  },
  {
   "cell_type": "code",
   "execution_count": null,
   "metadata": {},
   "outputs": [],
   "source": [
    "# Get the User object for the group owner\n",
    "group_owner = gis.users.get(group_owner_username)\n",
    "\n",
    "# Get all groups owned by the group owner\n",
    "member_groups = group_owner.groups\n",
    "\n",
    "# Get all groups owned by the group owner\n",
    "owned_groups = gis.groups.search(query=f\"owner:{group_owner_username}\")\n",
    "\n",
    "\n",
    "# Get all items owned by the group owner\n",
    "items = gis.content.search(query=f\"owner:{group_owner_username}\", max_items=1000)\n",
    "\n",
    "# Create a list of member group names\n",
    "member_group_names = [group.title for group in member_groups]\n",
    "\n",
    "# Create a list of group names\n",
    "owned_group_names = [group.title for group in owned_groups]\n",
    "\n",
    "# Create a list of owned titles\n",
    "item_titles = [item.title for item in items]\n",
    "\n",
    "# Print the names of the groups and items\n",
    "print(\"Groups:\")\n",
    "for name in member_group_names:\n",
    "    print(name)\n",
    "\n",
    "print(\"\\nOwned Groups:\")\n",
    "for name in owned_group_names:\n",
    "    print(name)\n",
    "\n",
    "print(\"\\nItems:\")\n",
    "for title in item_titles:\n",
    "    print(title)\n",
    "# Get the User object for the group owner\n",
    "group_owner = gis.users.get(group_owner_username)\n",
    "\n",
    "# Get all groups owned by the group owner\n",
    "groups = group_owner.groups\n",
    "\n",
    "# Print the names of the groups\n",
    "for group in groups:\n",
    "    print(group.title)"
   ]
  },
  {
   "cell_type": "markdown",
   "metadata": {},
   "source": [
    "# Delete items and reassing groups"
   ]
  },
  {
   "cell_type": "code",
   "execution_count": null,
   "metadata": {},
   "outputs": [],
   "source": [
    "# Input new owner username\n",
    "new_owner_username = input(\"Enter new owner username: \")\n",
    "\n",
    "# Get the User object for the new owner\n",
    "new_owner = gis.users.get(new_owner_username)\n",
    "\n",
    "# Change the owner of the groups and items\n",
    "if owned_groups and len(owned_groups) > 0:\n",
    "    for group in owned_groups:\n",
    "        group.reassign_to(new_owner_username)\n",
    "if items and len(items) > 0:\n",
    "    for item in items:\n",
    "        print(item.title)\n",
    "        item.reassign_to(new_owner_username)\n",
    "\n",
    "# Remove the old owner from the groups\n",
    "if member_group_names and len(member_group_names) > 0:\n",
    "    for group_name in member_group_names:\n",
    "        # Get the Group object for the group name\n",
    "        group = gis.groups.search(query=f\"title:{group_name}\")[0]\n",
    "        group.remove_users([group_owner_username])"
   ]
  }
 ],
 "metadata": {
  "kernelspec": {
   "display_name": "Python 3",
   "language": "python",
   "name": "python3"
  },
  "language_info": {
   "codemirror_mode": {
    "name": "ipython",
    "version": 3
   },
   "file_extension": ".py",
   "mimetype": "text/x-python",
   "name": "python",
   "nbconvert_exporter": "python",
   "pygments_lexer": "ipython3",
   "version": "3.9.18"
  }
 },
 "nbformat": 4,
 "nbformat_minor": 2
}
