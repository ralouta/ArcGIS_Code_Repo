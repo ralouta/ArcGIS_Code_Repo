{
 "cells": [
  {
   "cell_type": "code",
   "execution_count": null,
   "metadata": {},
   "outputs": [],
   "source": [
    "from arcgis.gis import GIS\n",
    "\n",
    "# Connect to ArcGIS Online using the \"Home\" connection\n",
    "gis = GIS(\"Home\")\n",
    "\n",
    "# List of item names to delete\n",
    "item_names_to_delete = [\n",
    "    \"Test_delete_fl_1\",\n",
    "    \"Test_delete_fl_2\"\n",
    "]\n",
    "\n",
    "# Function to delete items by name\n",
    "def delete_items_by_name(gis, item_names):\n",
    "    for item_name in item_names:\n",
    "        # Search for the item by name\n",
    "        items = gis.content.search(query=f\"title:{item_name}\", max_items=1)\n",
    "        if items:\n",
    "            item = items[0]\n",
    "            print(f\"Deleting item: {item.title} (ID: {item.id})\")\n",
    "            item.delete()\n",
    "            print(f\"Item {item.title} deleted successfully.\")\n",
    "        else:\n",
    "            print(f\"Item with name '{item_name}' not found.\")\n",
    "\n",
    "# Delete the items\n",
    "delete_items_by_name(gis, item_names_to_delete)"
   ]
  }
 ],
 "metadata": {
  "language_info": {
   "name": "python"
  }
 },
 "nbformat": 4,
 "nbformat_minor": 2
}
