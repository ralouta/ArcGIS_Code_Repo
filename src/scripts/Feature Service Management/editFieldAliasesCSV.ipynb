{
 "cells": [
  {
   "cell_type": "markdown",
   "metadata": {},
   "source": [
    "### Cell 1: Import Libraries\n",
    "\n",
    "This cell imports the necessary libraries for the notebook. It includes:\n",
    "- `pandas` for data manipulation.\n",
    "- `arcgis.gis` and `arcgis.features` for interacting with ArcGIS Online.\n",
    "- `ipywidgets` and `IPython.display` for creating interactive widgets.\n",
    "- `io` for handling byte streams.\n",
    "- `requests` for making HTTP requests."
   ]
  },
  {
   "cell_type": "code",
   "execution_count": 1,
   "metadata": {},
   "outputs": [],
   "source": [
    "import pandas as pd\n",
    "from arcgis.gis import GIS\n",
    "from arcgis.features import FeatureLayer\n",
    "import ipywidgets as widgets\n",
    "from IPython.display import display\n",
    "import io\n",
    "import requests\n"
   ]
  },
  {
   "cell_type": "markdown",
   "metadata": {},
   "source": [
    "### Cell 2: User Authentication\n",
    "\n",
    "This cell creates widgets for user input to sign in to ArcGIS Online. It includes:\n",
    "- A text widget for the username.\n",
    "- A password widget for the password.\n",
    "- A button to trigger the sign-in process.\n",
    "\n",
    "When the button is clicked, the `on_sign_in_button_clicked` function is called, which signs in to ArcGIS Online using the provided credentials and prints a success message."
   ]
  },
  {
   "cell_type": "code",
   "execution_count": 2,
   "metadata": {},
   "outputs": [
    {
     "data": {
      "application/vnd.jupyter.widget-view+json": {
       "model_id": "06bac5719d5847d0bc9f42764d19adcc",
       "version_major": 2,
       "version_minor": 0
      },
      "text/plain": [
       "Text(value='', description='Username:')"
      ]
     },
     "metadata": {},
     "output_type": "display_data"
    },
    {
     "data": {
      "application/vnd.jupyter.widget-view+json": {
       "model_id": "4845471fb7f54cac9b73cdbdbd210bbe",
       "version_major": 2,
       "version_minor": 0
      },
      "text/plain": [
       "Password(description='Password:')"
      ]
     },
     "metadata": {},
     "output_type": "display_data"
    },
    {
     "data": {
      "application/vnd.jupyter.widget-view+json": {
       "model_id": "32008e2f29ef474b983a1e660b304fc7",
       "version_major": 2,
       "version_minor": 0
      },
      "text/plain": [
       "Button(description='Sign In', style=ButtonStyle())"
      ]
     },
     "metadata": {},
     "output_type": "display_data"
    }
   ],
   "source": [
    "# Step 1: Create widgets for user input\n",
    "username_widget = widgets.Text(description=\"Username:\")\n",
    "password_widget = widgets.Password(description=\"Password:\")\n",
    "\n",
    "# Step 2: Display widgets\n",
    "display(username_widget, password_widget)\n",
    "\n",
    "# Step 3: Function to sign in\n",
    "def sign_in(username, password):\n",
    "    return GIS(\"https://www.arcgis.com\", username, password)\n",
    "\n",
    "# Step 4: Button to trigger sign in\n",
    "sign_in_button = widgets.Button(description=\"Sign In\")\n",
    "\n",
    "def on_sign_in_button_clicked(b):\n",
    "    global gis\n",
    "    username = username_widget.value\n",
    "    password = password_widget.value\n",
    "    gis = sign_in(username, password)\n",
    "    print(\"Signed in successfully.\")\n",
    "\n",
    "sign_in_button.on_click(on_sign_in_button_clicked)\n",
    "display(sign_in_button)"
   ]
  },
  {
   "cell_type": "markdown",
   "metadata": {},
   "source": [
    "### Cell 3: Item ID and CSV File Upload\n",
    "\n",
    "This cell creates widgets for inputting the item ID of the feature layer and uploading a CSV file. It includes:\n",
    "- A text widget for the item ID.\n",
    "- A file upload widget for the CSV file.\n",
    "- A button to load the layers and create a DataFrame from the uploaded CSV file.\n",
    "\n",
    "When the button is clicked, the `on_load_layers_button_clicked` function is called, which reads the CSV file, creates a DataFrame, and displays the first few rows of the DataFrame."
   ]
  },
  {
   "cell_type": "code",
   "execution_count": 3,
   "metadata": {},
   "outputs": [
    {
     "data": {
      "application/vnd.jupyter.widget-view+json": {
       "model_id": "36915f0f1ca94045b1483ece4e67bb4e",
       "version_major": 2,
       "version_minor": 0
      },
      "text/plain": [
       "Text(value='', description='Item ID:')"
      ]
     },
     "metadata": {},
     "output_type": "display_data"
    },
    {
     "data": {
      "application/vnd.jupyter.widget-view+json": {
       "model_id": "afed514274434c38be516545c9ee6dc2",
       "version_major": 2,
       "version_minor": 0
      },
      "text/plain": [
       "FileUpload(value=(), accept='.csv', description='Upload CSV')"
      ]
     },
     "metadata": {},
     "output_type": "display_data"
    },
    {
     "data": {
      "application/vnd.jupyter.widget-view+json": {
       "model_id": "f4325d03dc8b468ea8c4f0bbb65dca25",
       "version_major": 2,
       "version_minor": 0
      },
      "text/plain": [
       "Button(description='Load Layers', style=ButtonStyle())"
      ]
     },
     "metadata": {},
     "output_type": "display_data"
    }
   ],
   "source": [
    "\n",
    "# Step 1: Create widgets for item ID and CSV file upload\n",
    "item_id_widget = widgets.Text(description=\"Item ID:\")\n",
    "csv_file_widget = widgets.FileUpload(description=\"Upload CSV\", accept='.csv', multiple=False)\n",
    "\n",
    "# Step 2: Display widgets\n",
    "display(item_id_widget, csv_file_widget)\n",
    "\n",
    "# Step 3: Function to read CSV and create DataFrame\n",
    "def create_dataframe(csv_file):\n",
    "    return pd.read_csv(io.BytesIO(csv_file))\n",
    "\n",
    "# Step 4: Button to trigger layer population and DataFrame creation\n",
    "load_layers_button = widgets.Button(description=\"Load Layers\")\n",
    "\n",
    "def on_load_layers_button_clicked(b):\n",
    "    global item_id, df\n",
    "    item_id = item_id_widget.value\n",
    "    csv_file = list(csv_file_widget.value.values())[0]['content']\n",
    "    df = create_dataframe(csv_file)\n",
    "    print(\"DataFrame created successfully.\")\n",
    "    display(df.head())\n",
    "\n",
    "load_layers_button.on_click(on_load_layers_button_clicked)\n",
    "display(load_layers_button)"
   ]
  },
  {
   "cell_type": "markdown",
   "metadata": {},
   "source": [
    "### Cell 4: Layer Selection\n",
    "\n",
    "This cell creates a dropdown widget for selecting a layer from the item. It includes:\n",
    "- A dropdown widget for layer selection.\n",
    "- A button to confirm the layer selection and proceed.\n",
    "\n",
    "The `populate_layers` function populates the dropdown with the available layers from the item. When the button is clicked, the `on_create_df_button_clicked` function is called, which sets the selected layer and prints the selected layer's name."
   ]
  },
  {
   "cell_type": "code",
   "execution_count": 7,
   "metadata": {},
   "outputs": [
    {
     "data": {
      "application/vnd.jupyter.widget-view+json": {
       "model_id": "ff8705a1924145c5bec6431b6efe0ab6",
       "version_major": 2,
       "version_minor": 0
      },
      "text/plain": [
       "Dropdown(description='Layer:', options=(), value=None)"
      ]
     },
     "metadata": {},
     "output_type": "display_data"
    },
    {
     "data": {
      "application/vnd.jupyter.widget-view+json": {
       "model_id": "e93acc834ca047ceb75f89f800a94461",
       "version_major": 2,
       "version_minor": 0
      },
      "text/plain": [
       "Button(description='Select Layer and Proceed', style=ButtonStyle())"
      ]
     },
     "metadata": {},
     "output_type": "display_data"
    },
    {
     "name": "stdout",
     "output_type": "stream",
     "text": [
      "Selected layer: monitoring_system.sde.diem_adm_repr_1_mview\n"
     ]
    }
   ],
   "source": [
    "# Step 1: Create widget for layer selection\n",
    "layer_selection_widget = widgets.Dropdown(description=\"Layer:\")\n",
    "\n",
    "# Step 2: Display widget\n",
    "display(layer_selection_widget)\n",
    "\n",
    "# Step 3: Function to populate layer dropdown based on item ID\n",
    "def populate_layers(item_id):\n",
    "    item = gis.content.get(item_id)\n",
    "    if item is None:\n",
    "        print(f\"Item with ID {item_id} not found.\")\n",
    "        return\n",
    "    layers = item.layers\n",
    "    layer_options = [(layer.properties.name, layer) for layer in layers]\n",
    "    layer_selection_widget.options = layer_options\n",
    "\n",
    "# Step 4: Populate layers after item ID is provided\n",
    "populate_layers(item_id)\n",
    "\n",
    "# Step 5: Button to trigger DataFrame creation\n",
    "create_df_button = widgets.Button(description=\"Select Layer and Proceed\")\n",
    "\n",
    "def on_create_df_button_clicked(b):\n",
    "    global selected_layer\n",
    "    selected_layer = layer_selection_widget.value\n",
    "    print(f\"Selected layer: {selected_layer.properties.name}\")\n",
    "\n",
    "create_df_button.on_click(on_create_df_button_clicked)\n",
    "display(create_df_button)"
   ]
  },
  {
   "cell_type": "markdown",
   "metadata": {},
   "source": [
    "### Cell 5: Column Selection\n",
    "\n",
    "This cell creates dropdown widgets for selecting the columns for \"Field Name\" and \"Alias\" from the DataFrame. It includes:\n",
    "- A dropdown widget for the \"Field Name\" column.\n",
    "- A dropdown widget for the \"Alias\" column.\n",
    "\n",
    "The `populate_dropdowns` function populates the dropdowns with the column names from the DataFrame. The dropdowns are displayed for user interaction."
   ]
  },
  {
   "cell_type": "code",
   "execution_count": 11,
   "metadata": {},
   "outputs": [
    {
     "data": {
      "application/vnd.jupyter.widget-view+json": {
       "model_id": "bb586a0da0254704b7fb9fd07981d083",
       "version_major": 2,
       "version_minor": 0
      },
      "text/plain": [
       "Dropdown(description='Field Name Column:', options=('Variable Groups', 'Field Name', 'Alias', 'Thematic area (…"
      ]
     },
     "metadata": {},
     "output_type": "display_data"
    },
    {
     "data": {
      "application/vnd.jupyter.widget-view+json": {
       "model_id": "8f7b5be6de0a496f8d9ee79351fa0f67",
       "version_major": 2,
       "version_minor": 0
      },
      "text/plain": [
       "Dropdown(description='Alias Column:', options=('Variable Groups', 'Field Name', 'Alias', 'Thematic area (Disag…"
      ]
     },
     "metadata": {},
     "output_type": "display_data"
    }
   ],
   "source": [
    "# Step 1: Create dropdown widgets for selecting columns\n",
    "field_name_column_widget = widgets.Dropdown(description=\"Field Name Column:\")\n",
    "alias_column_widget = widgets.Dropdown(description=\"Alias Column:\")\n",
    "\n",
    "# Step 2: Function to populate dropdowns\n",
    "def populate_dropdowns(df):\n",
    "    columns = df.columns.tolist()\n",
    "    field_name_column_widget.options = columns\n",
    "    alias_column_widget.options = columns\n",
    "\n",
    "# Step 3: Populate dropdowns after DataFrame is created\n",
    "populate_dropdowns(df)\n",
    "\n",
    "# Step 4: Display dropdowns\n",
    "display(field_name_column_widget, alias_column_widget)\n"
   ]
  },
  {
   "cell_type": "markdown",
   "metadata": {},
   "source": [
    "### Cell 6: Update Field Aliases\n",
    "\n",
    "This cell updates the field aliases of the selected layer based on the values in the DataFrame. It includes:\n",
    "- Retrieving the current fields of the selected layer.\n",
    "- Converting the fields to a list of dictionaries.\n",
    "- Iterating through the fields and updating the aliases based on the DataFrame.\n",
    "- Updating the feature layer with the new field aliases using the `update_definition` method.\n",
    "- Printing a success message after the aliases are updated."
   ]
  },
  {
   "cell_type": "code",
   "execution_count": 13,
   "metadata": {},
   "outputs": [
    {
     "name": "stdout",
     "output_type": "stream",
     "text": [
      "Field aliases updated successfully.\n"
     ]
    }
   ],
   "source": [
    "# Get the current fields\n",
    "fields = selected_layer.properties.fields\n",
    "\n",
    "# Convert fields to a list of dictionaries\n",
    "fields_dict = [dict(field) for field in fields]\n",
    "\n",
    "# Update the field aliases based on the CSV file\n",
    "for field in fields_dict:\n",
    "    field_name = field['name']\n",
    "    if field_name in df[field_name_column_widget.value].values:\n",
    "            alias = df[df[field_name_column_widget.value] == field_name][alias_column_widget.value].values[0]\n",
    "            field['alias'] = alias\n",
    "\n",
    "# Update the feature layer with the new field aliases\n",
    "selected_layer.manager.update_definition({'fields': fields_dict})\n",
    "print(\"Field aliases updated successfully.\")"
   ]
  }
 ],
 "metadata": {
  "kernelspec": {
   "display_name": "Python 3",
   "language": "python",
   "name": "python3"
  },
  "language_info": {
   "codemirror_mode": {
    "name": "ipython",
    "version": 3
   },
   "file_extension": ".py",
   "mimetype": "text/x-python",
   "name": "python",
   "nbconvert_exporter": "python",
   "pygments_lexer": "ipython3",
   "version": "3.11.10"
  }
 },
 "nbformat": 4,
 "nbformat_minor": 2
}
