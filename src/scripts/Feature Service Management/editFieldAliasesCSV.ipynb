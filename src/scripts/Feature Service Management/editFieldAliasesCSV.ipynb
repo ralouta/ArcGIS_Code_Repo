{
 "cells": [
  {
   "cell_type": "markdown",
   "metadata": {},
   "source": [
    "### Cell 1: Import Libraries\n",
    "\n",
    "This cell imports the necessary libraries for the notebook. It includes:\n",
    "- `pandas` for data manipulation.\n",
    "- `arcgis.gis` and `arcgis.features` for interacting with ArcGIS Online.\n",
    "- `ipywidgets` and `IPython.display` for creating interactive widgets.\n",
    "- `io` for handling byte streams.\n",
    "- `requests` for making HTTP requests."
   ]
  },
  {
   "cell_type": "code",
   "execution_count": 1,
   "metadata": {},
   "outputs": [],
   "source": [
    "import pandas as pd\n",
    "from arcgis.gis import GIS\n",
    "from arcgis.features import FeatureLayer\n",
    "import ipywidgets as widgets\n",
    "from IPython.display import display\n",
    "import io\n",
    "import requests\n"
   ]
  },
  {
   "cell_type": "markdown",
   "metadata": {},
   "source": [
    "### Cell 2: User Authentication\n",
    "\n",
    "This cell creates widgets for user input to sign in to ArcGIS Online. It includes:\n",
    "- A text widget for the username.\n",
    "- A password widget for the password.\n",
    "- A button to trigger the sign-in process.\n",
    "\n",
    "When the button is clicked, the `on_sign_in_button_clicked` function is called, which signs in to ArcGIS Online using the provided credentials and prints a success message."
   ]
  },
  {
   "cell_type": "code",
   "execution_count": 2,
   "metadata": {},
   "outputs": [
    {
     "data": {
      "application/vnd.jupyter.widget-view+json": {
       "model_id": "a1ff32b78d49483588d69696a10ff2c1",
       "version_major": 2,
       "version_minor": 0
      },
      "text/plain": [
       "Text(value='', description='Username:')"
      ]
     },
     "metadata": {},
     "output_type": "display_data"
    },
    {
     "data": {
      "application/vnd.jupyter.widget-view+json": {
       "model_id": "df694969f83d41948b6b0e0386a9899b",
       "version_major": 2,
       "version_minor": 0
      },
      "text/plain": [
       "Password(description='Password:')"
      ]
     },
     "metadata": {},
     "output_type": "display_data"
    },
    {
     "data": {
      "application/vnd.jupyter.widget-view+json": {
       "model_id": "2d98a9a9d7c04225b86450f8d8c05ccb",
       "version_major": 2,
       "version_minor": 0
      },
      "text/plain": [
       "Button(description='Sign In', style=ButtonStyle())"
      ]
     },
     "metadata": {},
     "output_type": "display_data"
    }
   ],
   "source": [
    "# Step 1: Create widgets for user input\n",
    "username_widget = widgets.Text(description=\"Username:\")\n",
    "password_widget = widgets.Password(description=\"Password:\")\n",
    "\n",
    "# Step 2: Display widgets\n",
    "display(username_widget, password_widget)\n",
    "\n",
    "# Step 3: Function to sign in\n",
    "def sign_in(username, password):\n",
    "    return GIS(\"https://www.arcgis.com\", username, password)\n",
    "\n",
    "# Step 4: Button to trigger sign in\n",
    "sign_in_button = widgets.Button(description=\"Sign In\")\n",
    "\n",
    "def on_sign_in_button_clicked(b):\n",
    "    global gis\n",
    "    username = username_widget.value\n",
    "    password = password_widget.value\n",
    "    gis = sign_in(username, password)\n",
    "    print(\"Signed in successfully.\")\n",
    "\n",
    "sign_in_button.on_click(on_sign_in_button_clicked)\n",
    "display(sign_in_button)"
   ]
  },
  {
   "cell_type": "markdown",
   "metadata": {},
   "source": [
    "### Cell 3: Item ID and CSV File Upload\n",
    "\n",
    "This cell creates widgets for inputting the item ID of the feature layer and uploading a CSV file. It includes:\n",
    "- A text widget for the item ID.\n",
    "- A file upload widget for the CSV file.\n",
    "- A button to load the layers and create a DataFrame from the uploaded CSV file.\n",
    "\n",
    "When the button is clicked, the `on_load_layers_button_clicked` function is called, which reads the CSV file, creates a DataFrame, and displays the first few rows of the DataFrame."
   ]
  },
  {
   "cell_type": "code",
   "execution_count": 6,
   "metadata": {},
   "outputs": [
    {
     "data": {
      "application/vnd.jupyter.widget-view+json": {
       "model_id": "478cca9fdbb64bd2b93c673f7106bd3e",
       "version_major": 2,
       "version_minor": 0
      },
      "text/plain": [
       "Text(value='', description='Item ID:')"
      ]
     },
     "metadata": {},
     "output_type": "display_data"
    },
    {
     "data": {
      "application/vnd.jupyter.widget-view+json": {
       "model_id": "8cd5c02ace7f4eb388dfcf2fc1dc16a0",
       "version_major": 2,
       "version_minor": 0
      },
      "text/plain": [
       "FileUpload(value={}, accept='.csv', description='Upload CSV')"
      ]
     },
     "metadata": {},
     "output_type": "display_data"
    },
    {
     "data": {
      "application/vnd.jupyter.widget-view+json": {
       "model_id": "b65d53a59e874062a440e788a5e47f00",
       "version_major": 2,
       "version_minor": 0
      },
      "text/plain": [
       "Button(description='Load Layers', style=ButtonStyle())"
      ]
     },
     "metadata": {},
     "output_type": "display_data"
    },
    {
     "name": "stdout",
     "output_type": "stream",
     "text": [
      "DataFrame created successfully.\n"
     ]
    },
    {
     "data": {
      "text/html": [
       "<div>\n",
       "<style scoped>\n",
       "    .dataframe tbody tr th:only-of-type {\n",
       "        vertical-align: middle;\n",
       "    }\n",
       "\n",
       "    .dataframe tbody tr th {\n",
       "        vertical-align: top;\n",
       "    }\n",
       "\n",
       "    .dataframe thead th {\n",
       "        text-align: right;\n",
       "    }\n",
       "</style>\n",
       "<table border=\"1\" class=\"dataframe\">\n",
       "  <thead>\n",
       "    <tr style=\"text-align: right;\">\n",
       "      <th></th>\n",
       "      <th>Variable Groups</th>\n",
       "      <th>Field Name</th>\n",
       "      <th>Alias</th>\n",
       "      <th>Thematic area (Disaggregated for user interaction)</th>\n",
       "      <th>Layer Name - Country Level</th>\n",
       "      <th>Layer Name - Administrative Level 1 or 2</th>\n",
       "      <th>Field Descriptions</th>\n",
       "      <th>Type of question</th>\n",
       "    </tr>\n",
       "  </thead>\n",
       "  <tbody>\n",
       "    <tr>\n",
       "      <th>0</th>\n",
       "      <td>NaN</td>\n",
       "      <td>resp_isfishproducer_1</td>\n",
       "      <td>Respondent is fish producer 1</td>\n",
       "      <td>-</td>\n",
       "      <td>diem_adm0_1_mview_copilot</td>\n",
       "      <td>diem_adm_repr_1_mview_copilot</td>\n",
       "      <td>What percentage of households in Location are ...</td>\n",
       "      <td>NaN</td>\n",
       "    </tr>\n",
       "    <tr>\n",
       "      <th>1</th>\n",
       "      <td>NaN</td>\n",
       "      <td>resp_iscropproducer_1</td>\n",
       "      <td>Respondent is crop producer 1</td>\n",
       "      <td>Crop production</td>\n",
       "      <td>diem_adm0_1_mview_copilot</td>\n",
       "      <td>diem_adm_repr_1_mview_copilot</td>\n",
       "      <td>What percentage of households in Location are ...</td>\n",
       "      <td>NaN</td>\n",
       "    </tr>\n",
       "    <tr>\n",
       "      <th>2</th>\n",
       "      <td>NaN</td>\n",
       "      <td>resp_islsproducer_1</td>\n",
       "      <td>Respondent is livestock producer 1</td>\n",
       "      <td>Livestock production</td>\n",
       "      <td>diem_adm0_1_mview_copilot</td>\n",
       "      <td>diem_adm_repr_1_mview_copilot</td>\n",
       "      <td>What percentage of households in Location are ...</td>\n",
       "      <td>NaN</td>\n",
       "    </tr>\n",
       "    <tr>\n",
       "      <th>3</th>\n",
       "      <td>Group of\\r\\n\"income_main_\"\\r\\n\\r\\nMain source ...</td>\n",
       "      <td>income_main_1</td>\n",
       "      <td>Income Main 1</td>\n",
       "      <td>Income</td>\n",
       "      <td>diem_adm0_1_mview_copilot</td>\n",
       "      <td>diem_adm_repr_1_mview_copilot</td>\n",
       "      <td>What percentage of households in Location, whe...</td>\n",
       "      <td>Multiple-choice</td>\n",
       "    </tr>\n",
       "    <tr>\n",
       "      <th>4</th>\n",
       "      <td>NaN</td>\n",
       "      <td>income_main_2</td>\n",
       "      <td>Income Main 2</td>\n",
       "      <td>Income</td>\n",
       "      <td>diem_adm0_1_mview_copilot</td>\n",
       "      <td>diem_adm_repr_1_mview_copilot</td>\n",
       "      <td>What percentage of households in Location, whe...</td>\n",
       "      <td>Multiple-choice</td>\n",
       "    </tr>\n",
       "  </tbody>\n",
       "</table>\n",
       "</div>"
      ],
      "text/plain": [
       "                                     Variable Groups             Field Name  \\\n",
       "0                                                NaN  resp_isfishproducer_1   \n",
       "1                                                NaN  resp_iscropproducer_1   \n",
       "2                                                NaN    resp_islsproducer_1   \n",
       "3  Group of\\r\\n\"income_main_\"\\r\\n\\r\\nMain source ...          income_main_1   \n",
       "4                                                NaN          income_main_2   \n",
       "\n",
       "                                Alias  \\\n",
       "0       Respondent is fish producer 1   \n",
       "1       Respondent is crop producer 1   \n",
       "2  Respondent is livestock producer 1   \n",
       "3                       Income Main 1   \n",
       "4                       Income Main 2   \n",
       "\n",
       "  Thematic area (Disaggregated for user interaction)  \\\n",
       "0                                                  -   \n",
       "1                                    Crop production   \n",
       "2                               Livestock production   \n",
       "3                                             Income   \n",
       "4                                             Income   \n",
       "\n",
       "  Layer Name - Country Level  Layer Name - Administrative Level 1 or 2  \\\n",
       "0   diem_adm0_1_mview_copilot            diem_adm_repr_1_mview_copilot   \n",
       "1   diem_adm0_1_mview_copilot            diem_adm_repr_1_mview_copilot   \n",
       "2   diem_adm0_1_mview_copilot            diem_adm_repr_1_mview_copilot   \n",
       "3   diem_adm0_1_mview_copilot            diem_adm_repr_1_mview_copilot   \n",
       "4   diem_adm0_1_mview_copilot            diem_adm_repr_1_mview_copilot   \n",
       "\n",
       "                                  Field Descriptions Type of question  \n",
       "0  What percentage of households in Location are ...              NaN  \n",
       "1  What percentage of households in Location are ...              NaN  \n",
       "2  What percentage of households in Location are ...              NaN  \n",
       "3  What percentage of households in Location, whe...  Multiple-choice  \n",
       "4  What percentage of households in Location, whe...  Multiple-choice  "
      ]
     },
     "metadata": {},
     "output_type": "display_data"
    }
   ],
   "source": [
    "\n",
    "# Step 1: Create widgets for item ID and CSV file upload\n",
    "item_id_widget = widgets.Text(description=\"Item ID:\")\n",
    "csv_file_widget = widgets.FileUpload(description=\"Upload CSV\", accept='.csv', multiple=False)\n",
    "\n",
    "# Step 2: Display widgets\n",
    "display(item_id_widget, csv_file_widget)\n",
    "\n",
    "# Step 3: Function to read CSV and create DataFrame\n",
    "def create_dataframe(csv_file):\n",
    "    return pd.read_csv(io.BytesIO(csv_file))\n",
    "\n",
    "# Step 4: Button to trigger layer population and DataFrame creation\n",
    "load_layers_button = widgets.Button(description=\"Load Layers\")\n",
    "\n",
    "def on_load_layers_button_clicked(b):\n",
    "    global item_id, df\n",
    "    item_id = item_id_widget.value\n",
    "    csv_file = list(csv_file_widget.value.values())[0]['content']\n",
    "    df = create_dataframe(csv_file)\n",
    "    print(\"DataFrame created successfully.\")\n",
    "    display(df.head())\n",
    "\n",
    "load_layers_button.on_click(on_load_layers_button_clicked)\n",
    "display(load_layers_button)"
   ]
  },
  {
   "cell_type": "markdown",
   "metadata": {},
   "source": [
    "### Cell 4: Layer Selection\n",
    "\n",
    "This cell creates a dropdown widget for selecting a layer from the item. It includes:\n",
    "- A dropdown widget for layer selection.\n",
    "- A button to confirm the layer selection and proceed.\n",
    "\n",
    "The `populate_layers` function populates the dropdown with the available layers from the item. When the button is clicked, the `on_create_df_button_clicked` function is called, which sets the selected layer and prints the selected layer's name."
   ]
  },
  {
   "cell_type": "code",
   "execution_count": 7,
   "metadata": {},
   "outputs": [
    {
     "data": {
      "application/vnd.jupyter.widget-view+json": {
       "model_id": "ff8705a1924145c5bec6431b6efe0ab6",
       "version_major": 2,
       "version_minor": 0
      },
      "text/plain": [
       "Dropdown(description='Layer:', options=(), value=None)"
      ]
     },
     "metadata": {},
     "output_type": "display_data"
    },
    {
     "data": {
      "application/vnd.jupyter.widget-view+json": {
       "model_id": "e93acc834ca047ceb75f89f800a94461",
       "version_major": 2,
       "version_minor": 0
      },
      "text/plain": [
       "Button(description='Select Layer and Proceed', style=ButtonStyle())"
      ]
     },
     "metadata": {},
     "output_type": "display_data"
    },
    {
     "name": "stdout",
     "output_type": "stream",
     "text": [
      "Selected layer: monitoring_system.sde.diem_adm_repr_1_mview\n"
     ]
    }
   ],
   "source": [
    "# Step 1: Create widget for layer selection\n",
    "layer_selection_widget = widgets.Dropdown(description=\"Layer:\")\n",
    "\n",
    "# Step 2: Display widget\n",
    "display(layer_selection_widget)\n",
    "\n",
    "# Step 3: Function to populate layer dropdown based on item ID\n",
    "def populate_layers(item_id):\n",
    "    item = gis.content.get(item_id)\n",
    "    if item is None:\n",
    "        print(f\"Item with ID {item_id} not found.\")\n",
    "        return\n",
    "    layers = item.layers\n",
    "    layer_options = [(layer.properties.name, layer) for layer in layers]\n",
    "    layer_selection_widget.options = layer_options\n",
    "\n",
    "# Step 4: Populate layers after item ID is provided\n",
    "populate_layers(item_id)\n",
    "\n",
    "# Step 5: Button to trigger DataFrame creation\n",
    "create_df_button = widgets.Button(description=\"Select Layer and Proceed\")\n",
    "\n",
    "def on_create_df_button_clicked(b):\n",
    "    global selected_layer\n",
    "    selected_layer = layer_selection_widget.value\n",
    "    print(f\"Selected layer: {selected_layer.properties.name}\")\n",
    "\n",
    "create_df_button.on_click(on_create_df_button_clicked)\n",
    "display(create_df_button)"
   ]
  },
  {
   "cell_type": "markdown",
   "metadata": {},
   "source": [
    "### Cell 5: Column Selection\n",
    "\n",
    "This cell creates dropdown widgets for selecting the columns for \"Field Name\" and \"Alias\" from the DataFrame. It includes:\n",
    "- A dropdown widget for the \"Field Name\" column.\n",
    "- A dropdown widget for the \"Alias\" column.\n",
    "\n",
    "The `populate_dropdowns` function populates the dropdowns with the column names from the DataFrame. The dropdowns are displayed for user interaction."
   ]
  },
  {
   "cell_type": "code",
   "execution_count": 11,
   "metadata": {},
   "outputs": [
    {
     "data": {
      "application/vnd.jupyter.widget-view+json": {
       "model_id": "bb586a0da0254704b7fb9fd07981d083",
       "version_major": 2,
       "version_minor": 0
      },
      "text/plain": [
       "Dropdown(description='Field Name Column:', options=('Variable Groups', 'Field Name', 'Alias', 'Thematic area (…"
      ]
     },
     "metadata": {},
     "output_type": "display_data"
    },
    {
     "data": {
      "application/vnd.jupyter.widget-view+json": {
       "model_id": "8f7b5be6de0a496f8d9ee79351fa0f67",
       "version_major": 2,
       "version_minor": 0
      },
      "text/plain": [
       "Dropdown(description='Alias Column:', options=('Variable Groups', 'Field Name', 'Alias', 'Thematic area (Disag…"
      ]
     },
     "metadata": {},
     "output_type": "display_data"
    }
   ],
   "source": [
    "# Step 1: Create dropdown widgets for selecting columns\n",
    "field_name_column_widget = widgets.Dropdown(description=\"Field Name Column:\")\n",
    "alias_column_widget = widgets.Dropdown(description=\"Alias Column:\")\n",
    "\n",
    "# Step 2: Function to populate dropdowns\n",
    "def populate_dropdowns(df):\n",
    "    columns = df.columns.tolist()\n",
    "    field_name_column_widget.options = columns\n",
    "    alias_column_widget.options = columns\n",
    "\n",
    "# Step 3: Populate dropdowns after DataFrame is created\n",
    "populate_dropdowns(df)\n",
    "\n",
    "# Step 4: Display dropdowns\n",
    "display(field_name_column_widget, alias_column_widget)\n"
   ]
  },
  {
   "cell_type": "markdown",
   "metadata": {},
   "source": [
    "### Cell 6: Update Field Aliases\n",
    "\n",
    "This cell updates the field aliases of the selected layer based on the values in the DataFrame. It includes:\n",
    "- Retrieving the current fields of the selected layer.\n",
    "- Converting the fields to a list of dictionaries.\n",
    "- Iterating through the fields and updating the aliases based on the DataFrame.\n",
    "- Updating the feature layer with the new field aliases using the `update_definition` method.\n",
    "- Printing a success message after the aliases are updated."
   ]
  },
  {
   "cell_type": "code",
   "execution_count": 13,
   "metadata": {},
   "outputs": [
    {
     "name": "stdout",
     "output_type": "stream",
     "text": [
      "Field aliases updated successfully.\n"
     ]
    }
   ],
   "source": [
    "# Get the current fields\n",
    "fields = selected_layer.properties.fields\n",
    "\n",
    "# Convert fields to a list of dictionaries\n",
    "fields_dict = [dict(field) for field in fields]\n",
    "\n",
    "# Update the field aliases based on the CSV file\n",
    "for field in fields_dict:\n",
    "    field_name = field['name']\n",
    "    if field_name in df[field_name_column_widget.value].values:\n",
    "            alias = df[df[field_name_column_widget.value] == field_name][alias_column_widget.value].values[0]\n",
    "            field['alias'] = alias\n",
    "\n",
    "# Update the feature layer with the new field aliases\n",
    "selected_layer.manager.update_definition({'fields': fields_dict})\n",
    "print(\"Field aliases updated successfully.\")"
   ]
  }
 ],
 "metadata": {
  "kernelspec": {
   "display_name": "genai-auto-py3",
   "language": "python",
   "name": "python3"
  },
  "language_info": {
   "codemirror_mode": {
    "name": "ipython",
    "version": 3
   },
   "file_extension": ".py",
   "mimetype": "text/x-python",
   "name": "python",
   "nbconvert_exporter": "python",
   "pygments_lexer": "ipython3",
   "version": "3.11.8"
  }
 },
 "nbformat": 4,
 "nbformat_minor": 2
}
