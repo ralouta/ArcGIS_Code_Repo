{
 "cells": [
  {
   "cell_type": "code",
   "execution_count": 2,
   "metadata": {},
   "outputs": [],
   "source": [
    "import arcpy\n",
    "from arcgis.gis import GIS\n",
    "import getpass\n",
    "import os"
   ]
  },
  {
   "cell_type": "code",
   "execution_count": 3,
   "metadata": {},
   "outputs": [],
   "source": [
    "# Prompt for ArcGIS Online username and password\n",
    "USERNAME = input(\"Enter your ArcGIS Online username: \")\n",
    "PASSWORD = getpass.getpass(\"Enter your ArcGIS Online password: \")\n",
    "\n",
    "# List of item IDs to process\n",
    "item_ids = [\n",
    "    'a4a82cea16c342d781268e00ed2b0b76',\n",
    "    '0d7bfa254fe94814973a59198b2f2347'\n",
    "]\n",
    "\n",
    "# Path to the local file geodatabase\n",
    "gdb_path = r'C:\\Users\\rami8629\\OneDrive - Esri\\Demos & Blogs\\ArcGIS Resources\\ArcGIS_Code_Repo\\src\\scripts\\Feature Service Management\\geodatabase.gdb'\n"
   ]
  },
  {
   "cell_type": "code",
   "execution_count": 8,
   "metadata": {},
   "outputs": [],
   "source": [
    "\n",
    "# Function to create a file geodatabase if it doesn't exist\n",
    "def create_file_geodatabase(gdb_path):\n",
    "    if not arcpy.Exists(gdb_path):\n",
    "        arcpy.CreateFileGDB_management(out_folder_path=os.path.dirname(gdb_path), out_name=os.path.basename(gdb_path))\n",
    "        print(f\"File geodatabase created at {gdb_path}\")\n",
    "    else:\n",
    "        print(f\"File geodatabase already exists at {gdb_path}\")\n",
    "\n",
    "# Function to export item to feature class\n",
    "def export_item_to_feature_class(item, gdb_path):\n",
    "    layer_name = item.title.replace(\" \", \"_\")\n",
    "    feature_class_path = os.path.join(gdb_path, layer_name)\n",
    "    \n",
    "    # Create a feature layer from the item\n",
    "    layer = item.layers[0]\n",
    "    feature_layer = layer.query().save('in_memory', layer_name)\n",
    "    \n",
    "    # Export the feature layer to the file geodatabase\n",
    "    arcpy.CopyFeatures_management(in_features=feature_layer, out_feature_class=feature_class_path)\n",
    "    print(f\"Exported {item.title} to {feature_class_path}\")\n"
   ]
  },
  {
   "cell_type": "code",
   "execution_count": null,
   "metadata": {},
   "outputs": [],
   "source": [
    "\n",
    "# Connect to ArcGIS Online\n",
    "gis = GIS(\"https://www.arcgis.com\", USERNAME, PASSWORD)\n",
    "\n",
    "# Create the file geodatabase if it doesn't exist\n",
    "create_file_geodatabase(gdb_path)\n",
    "\n",
    "# Process each item ID\n",
    "for item_id in item_ids:\n",
    "    item = gis.content.get(item_id)\n",
    "    if item:\n",
    "        export_item_to_feature_class(item, gdb_path)\n",
    "    else:\n",
    "        print(f\"Item with ID {item_id} not found.\")"
   ]
  }
 ],
 "metadata": {
  "kernelspec": {
   "display_name": "Python 3",
   "language": "python",
   "name": "python3"
  },
  "language_info": {
   "codemirror_mode": {
    "name": "ipython",
    "version": 3
   },
   "file_extension": ".py",
   "mimetype": "text/x-python",
   "name": "python",
   "nbconvert_exporter": "python",
   "pygments_lexer": "ipython3",
   "version": "3.11.8"
  }
 },
 "nbformat": 4,
 "nbformat_minor": 2
}
