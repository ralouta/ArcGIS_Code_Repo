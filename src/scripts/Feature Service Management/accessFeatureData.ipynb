{
 "cells": [
  {
   "cell_type": "code",
   "execution_count": null,
   "metadata": {},
   "outputs": [],
   "source": [
    "# Import the FeatureServiceDataAnalyzer class from the module\n",
    "from featureServiceMgmt import FeatureServiceDataAnalyzer\n",
    "\n",
    "import pandas as pd"
   ]
  },
  {
   "cell_type": "code",
   "execution_count": null,
   "metadata": {},
   "outputs": [],
   "source": [
    "\n",
    "# Create an instance of the AGOLManager class\n",
    "feature_service_data_analyzer = FeatureServiceDataAnalyzer()\n",
    "\n",
    "# Authenticate and get the item\n",
    "feature_service_data_analyzer.authenticate_and_get_item()\n"
   ]
  },
  {
   "cell_type": "code",
   "execution_count": null,
   "metadata": {},
   "outputs": [],
   "source": [
    "# Display the layer dropdown and query the selected layer\n",
    "feature_service_data_analyzer.display_layer_dropdown()"
   ]
  },
  {
   "cell_type": "code",
   "execution_count": null,
   "metadata": {},
   "outputs": [],
   "source": [
    "# Query the selected feature layer and get the data as a DataFrame\n",
    "df = feature_service_data_analyzer.query_feature_layer_to_df()\n",
    "df.head()"
   ]
  },
  {
   "cell_type": "code",
   "execution_count": null,
   "metadata": {},
   "outputs": [],
   "source": [
    "# print the values of df column what_went_well_with_the_worksho\t and what_could_have_been_better as two separate text\n",
    "print(f\"The workshop met or exceeded my expectations: \\n{df['the_workshop_meets_or_exceeded'].values}\\n\")\n",
    "print(f\"What went well with the workshop: \\n{df['what_went_well_with_the_worksho'].values}\\n\")\n",
    "print(f\"What could have been done better: \\n{df['what_can_be_done_better'].values}\\n\")\n",
    "\n",
    "#Create a dictionary of the topics and their respective counts in select_the_the_topics_that_you note that each row can have multiple comma separated values\n",
    "\n",
    "topics = {}\n",
    "for index, row in df.iterrows():\n",
    "    topics_list = row['select_the_the_topics_that_you'].split(',')\n",
    "    for topic in topics_list:\n",
    "        if topic in topics:\n",
    "            topics[topic] += 1\n",
    "        else:\n",
    "            topics[topic] = 1\n",
    "\n",
    "print(f\"Topics that SEs would like to see in future workshops: \\n{topics}\\n\")\n"
   ]
  }
 ],
 "metadata": {
  "kernelspec": {
   "display_name": "Python 3",
   "language": "python",
   "name": "python3"
  },
  "language_info": {
   "codemirror_mode": {
    "name": "ipython",
    "version": 3
   },
   "file_extension": ".py",
   "mimetype": "text/x-python",
   "name": "python",
   "nbconvert_exporter": "python",
   "pygments_lexer": "ipython3",
   "version": "3.11.10"
  }
 },
 "nbformat": 4,
 "nbformat_minor": 2
}
