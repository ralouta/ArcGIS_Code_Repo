{
 "cells": [
  {
   "cell_type": "markdown",
   "metadata": {},
   "source": [
    "# Download Attachments to Excel\n",
    "\n",
    "This notebook demonstrates how to download attachments from a Feature Layer in ArcGIS Online (AGOL) and save them to an Excel file. The Excel file will include each feature in the feature layer as a row and a column for each attachment embedded as an iframe linking to the locally downloaded attachments.\n",
    "\n",
    "### Import Libraries\n",
    "\n",
    "Import the necessary libraries for working with ArcGIS, handling data, and creating widgets.\n",
    "\n",
    "```python"
   ]
  },
  {
   "cell_type": "code",
   "execution_count": 1,
   "metadata": {},
   "outputs": [],
   "source": [
    "import pandas as pd\n",
    "from arcgis.gis import GIS\n",
    "from arcgis.features import FeatureLayer\n",
    "import getpass\n",
    "import os\n",
    "import shutil\n",
    "import ipywidgets as widgets\n",
    "from IPython.display import display, HTML"
   ]
  },
  {
   "cell_type": "markdown",
   "metadata": {},
   "source": [
    "### AGOL Authentication\n",
    "Prompt the user for their ArcGIS Online (AGOL) credentials and establish a connection to AGOL."
   ]
  },
  {
   "cell_type": "code",
   "execution_count": 2,
   "metadata": {},
   "outputs": [],
   "source": [
    "# Prompt user for AGOL credentials\n",
    "username = input(\"Enter your AGOL username: \")\n",
    "password = getpass.getpass(\"Enter your AGOL password: \")\n",
    "\n",
    "# Connect to AGOL\n",
    "gis = GIS(\"https://www.arcgis.com\", username, password)\n"
   ]
  },
  {
   "cell_type": "markdown",
   "metadata": {},
   "source": [
    "## Select Feature Layer\n",
    "Provide the AGOL item ID, retrieve the item, and create a dropdown widget for selecting the desired layer.\n",
    "Also, create a directory to save the attachments."
   ]
  },
  {
   "cell_type": "code",
   "execution_count": 3,
   "metadata": {},
   "outputs": [
    {
     "data": {
      "application/vnd.jupyter.widget-view+json": {
       "model_id": "a1627a34735844e094976b35f2f62937",
       "version_major": 2,
       "version_minor": 0
      },
      "text/plain": [
       "Dropdown(description='Select Layer:', options=(('admin_0', 0), ('extreme_events', 1)), value=0)"
      ]
     },
     "metadata": {},
     "output_type": "display_data"
    },
    {
     "name": "stdout",
     "output_type": "stream",
     "text": [
      "Selected layer: extreme_events\n"
     ]
    }
   ],
   "source": [
    "\n",
    "# Provide the AGOL item ID\n",
    "item_id = \"caaecc422e244897ad5a9d5e0ecf156b\"\n",
    "\n",
    "# Get the item\n",
    "item = gis.content.get(item_id)\n",
    "\n",
    "# Create a dropdown widget for selecting the layer\n",
    "layer_options = [(layer.properties.name, i) for i, layer in enumerate(item.layers)]\n",
    "layer_dropdown = widgets.Dropdown(\n",
    "    options=layer_options,\n",
    "    description='Select Layer:',\n",
    "    disabled=False,\n",
    ")\n",
    "\n",
    "def on_layer_change(change):\n",
    "    global feature_layer\n",
    "    feature_layer = item.layers[change['new']]\n",
    "    print(f\"Selected layer: {feature_layer.properties.name}\")\n",
    "\n",
    "layer_dropdown.observe(on_layer_change, names='value')\n",
    "\n",
    "# Display the dropdown widget\n",
    "display(layer_dropdown)\n",
    "\n",
    "# Create a directory to save attachments\n",
    "output_dir = \"attachments\"\n",
    "if not os.path.exists(output_dir):\n",
    "    os.makedirs(output_dir)"
   ]
  },
  {
   "cell_type": "markdown",
   "metadata": {},
   "source": [
    "### Download Attachments\n",
    "Define a class ArcGISAttachmentDownloader with methods to download attachments from the selected feature layer and save them to the specified directory."
   ]
  },
  {
   "cell_type": "code",
   "execution_count": 4,
   "metadata": {},
   "outputs": [],
   "source": [
    "class ArcGISAttachmentDownloader:\n",
    "    '''\n",
    "        A class to download attachments from an ArcGIS feature layer\n",
    "        Attributes\n",
    "        ----------\n",
    "            feature_layer : FeatureLayer\n",
    "            An ArcGIS feature layer object\n",
    "            \n",
    "            output_dir : str\n",
    "            The directory to save the attachments\n",
    "        Methods\n",
    "        -------\n",
    "            download_attachments()\n",
    "            Download attachments from the feature layer to the output directory\n",
    "            \n",
    "            createExcel()\n",
    "            Create an Excel file with the feature data and embedded images\n",
    "    '''\t\n",
    "    # Function to download attachments\n",
    "    def download_attachments(self, feature_layer, output_dir):\n",
    "\n",
    "        features = feature_layer.query(where=\"1=1\", out_fields=\"*\").features\n",
    "\n",
    "        #print the index of the feature\n",
    "        # Initialize an empty list to store feature data\n",
    "        data = []\n",
    "\n",
    "        for feature in features[15:20]:\n",
    "            object_id = feature.attributes['objectid']\n",
    "            globalid = feature.attributes['globalid']\n",
    "            attachments = feature_layer.attachments.get_list(object_id)\n",
    "            #create a list of feature attributes\n",
    "            feature_attributes = feature.attributes\n",
    "        \n",
    "            \n",
    "            if attachments:\n",
    "                for attachment in attachments:\n",
    "                    attachment_id = attachment['id']\n",
    "                    parentGlobalid = attachment['parentGlobalId']\n",
    "                    attachment_name= attachment['name']\n",
    "                    final_attachment_path = os.path.join(output_dir, f\"{globalid}_{attachment_name}\")\n",
    "                \n",
    "                    # Check if the attachment already exists\n",
    "                    if not os.path.exists(final_attachment_path):\n",
    "                        temp_dir = os.path.join(output_dir, f\"temp_{object_id}\")\n",
    "                        \n",
    "                        # Create a temporary directory to download the attachment\n",
    "                        if not os.path.exists(temp_dir):\n",
    "                            os.makedirs(temp_dir)\n",
    "                        \n",
    "                        # Download the attachment to the temporary directory\n",
    "                        feature_layer.attachments.download(oid=object_id, attachment_id=attachment_id, save_path=temp_dir)\n",
    "                        \n",
    "                        # Move the attachment from the temporary directory to the output directory with the new name\n",
    "                        temp_attachment_path = os.path.join(temp_dir, attachment_name)\n",
    "                        shutil.move(temp_attachment_path, final_attachment_path)\n",
    "                        \n",
    "                        # Remove the temporary directory\n",
    "                        shutil.rmtree(temp_dir)\n",
    "                        \n",
    "                        print(f\"Downloaded {attachment_name} for feature {object_id} as {final_attachment_path}\")\n",
    "                    else:\n",
    "                        print(f\"Attachment {attachment_name} for feature {object_id} already exists as {final_attachment_path}\")\n",
    "                    \n",
    "                    # Append the feature data to the list\n",
    "                    feature_attributes.update({\n",
    "                        'final_attachment_path': final_attachment_path,\n",
    "                        \"attachmentParentGlobalid\": parentGlobalid\n",
    "                    })\n",
    "                    data.append(feature_attributes)\n",
    "            else:\n",
    "                # Append the feature data with no attachments\n",
    "                feature_attributes.update({\n",
    "                    'final_attachment_path': None,\n",
    "                    'attachmentParentGlobalid': None\n",
    "                })\n",
    "                data.append(feature_attributes)\n",
    "        return data\n",
    "    \n",
    "    def createExcel(self, data):\n",
    "        # Create a DataFrame from the list\n",
    "        df = pd.DataFrame(data)\n",
    "        df.head()\n",
    "        # Save the DataFrame to an Excel file\n",
    "        output_excel_path = os.path.join(output_dir, 'features_with_attachments.xlsx')\n",
    "        df.to_excel(output_excel_path, index=True, engine='xlsxwriter')\n",
    "\n",
    "        # Load the workbook and worksheet to embed images\n",
    "        with pd.ExcelWriter(output_excel_path, engine='xlsxwriter') as writer:\n",
    "            df.to_excel(writer, index=False)\n",
    "            workbook = writer.book\n",
    "            worksheet = writer.sheets['Sheet1']\n",
    "\n",
    "            # Widen the first column to make the caption clearer\n",
    "            worksheet.set_column(0, 0, 30)\n",
    "            worksheet.write(0, 0, \"Embed images that scale to cell size\")\n",
    "\n",
    "            # Embed images in the final_attachment_path column\n",
    "            for row_num, attachment_path in enumerate(df['final_attachment_path'], start=1):\n",
    "                if attachment_path:\n",
    "                    #adjust attachment path to be fully qualified path\n",
    "                    attachment_path = os.path.abspath(attachment_path)\n",
    "                    print(f\"Embedding image {attachment_path} in row {row_num}\")\n",
    "\n",
    "                    # check for file extension embed images as jpg, jpeg, png using embed_image and hyperlink other file types\n",
    "                    if attachment_path.lower().endswith(('.png', '.jpg', '.jpeg')):\n",
    "                        worksheet.set_row(row_num, 60)  # Adjust row height\n",
    "                        worksheet.embed_image(row_num, df.columns.get_loc('final_attachment_path'), attachment_path, {'x_scale': 0.5, 'y_scale': 0.5})\n",
    "\n",
    "                    else:\n",
    "                        # Add a hyperlink to the file\n",
    "                        worksheet.write_url(row_num, df.columns.get_loc('final_attachment_path'), f'external:{attachment_path}', string='Link to attachment')\n",
    "\n",
    "\n",
    "        print(f\"DataFrame saved as Excel file with embedded images at {output_excel_path}\")\n",
    "\n",
    "        return output_excel_path\n",
    "    \n"
   ]
  },
  {
   "cell_type": "markdown",
   "metadata": {},
   "source": [
    "### Execute Download and Save to Excel\n",
    "Create an instance of ArcGISAttachmentDownloader, download the attachments, and save the data to an Excel file."
   ]
  },
  {
   "cell_type": "code",
   "execution_count": 5,
   "metadata": {},
   "outputs": [
    {
     "name": "stdout",
     "output_type": "stream",
     "text": [
      "Downloaded Screenshot_20240614-221010.jpg for feature 194 as attachments\\3e0ac251-71a8-488f-8deb-bce2e3ea84e0_Screenshot_20240614-221010.jpg\n",
      "Downloaded Screenshot_20240614-180234.jpg for feature 194 as attachments\\3e0ac251-71a8-488f-8deb-bce2e3ea84e0_Screenshot_20240614-180234.jpg\n",
      "Downloaded Screenshot_20240616-180857.jpg for feature 195 as attachments\\13b05cad-9f1b-4ad0-8500-620fbbb1fb2a_Screenshot_20240616-180857.jpg\n",
      "Downloaded Screenshot_20240615-110620.jpg for feature 195 as attachments\\13b05cad-9f1b-4ad0-8500-620fbbb1fb2a_Screenshot_20240615-110620.jpg\n",
      "Downloaded press_20220914.pdf for feature 211 as attachments\\1a0ef617-0b09-46a5-8c73-f19f37415a4b_press_20220914.pdf\n",
      "Downloaded press_20230928.pdf for feature 211 as attachments\\1a0ef617-0b09-46a5-8c73-f19f37415a4b_press_20230928.pdf\n",
      "Embedding image c:\\Users\\rami8629\\OneDrive - Esri\\Demos & Blogs\\ArcGIS Resources\\Code-Repos\\ArcGIS_Code_Repo\\src\\scripts\\Feature Service Management\\attachments\\3e0ac251-71a8-488f-8deb-bce2e3ea84e0_Screenshot_20240614-180234.jpg in row 1\n",
      "Embedding image c:\\Users\\rami8629\\OneDrive - Esri\\Demos & Blogs\\ArcGIS Resources\\Code-Repos\\ArcGIS_Code_Repo\\src\\scripts\\Feature Service Management\\attachments\\3e0ac251-71a8-488f-8deb-bce2e3ea84e0_Screenshot_20240614-180234.jpg in row 2\n",
      "Embedding image c:\\Users\\rami8629\\OneDrive - Esri\\Demos & Blogs\\ArcGIS Resources\\Code-Repos\\ArcGIS_Code_Repo\\src\\scripts\\Feature Service Management\\attachments\\13b05cad-9f1b-4ad0-8500-620fbbb1fb2a_Screenshot_20240615-110620.jpg in row 3\n",
      "Embedding image c:\\Users\\rami8629\\OneDrive - Esri\\Demos & Blogs\\ArcGIS Resources\\Code-Repos\\ArcGIS_Code_Repo\\src\\scripts\\Feature Service Management\\attachments\\13b05cad-9f1b-4ad0-8500-620fbbb1fb2a_Screenshot_20240615-110620.jpg in row 4\n",
      "Embedding image c:\\Users\\rami8629\\OneDrive - Esri\\Demos & Blogs\\ArcGIS Resources\\Code-Repos\\ArcGIS_Code_Repo\\src\\scripts\\Feature Service Management\\attachments\\1a0ef617-0b09-46a5-8c73-f19f37415a4b_press_20230928.pdf in row 7\n",
      "Embedding image c:\\Users\\rami8629\\OneDrive - Esri\\Demos & Blogs\\ArcGIS Resources\\Code-Repos\\ArcGIS_Code_Repo\\src\\scripts\\Feature Service Management\\attachments\\1a0ef617-0b09-46a5-8c73-f19f37415a4b_press_20230928.pdf in row 8\n",
      "DataFrame saved as Excel file with embedded images at attachments\\features_with_attachments.xlsx\n"
     ]
    }
   ],
   "source": [
    "attachment_downloader = ArcGISAttachmentDownloader()\n",
    "data = attachment_downloader.download_attachments(feature_layer, output_dir)\n",
    "output_excel_path = attachment_downloader.createExcel(data)"
   ]
  }
 ],
 "metadata": {
  "kernelspec": {
   "display_name": "Python 3",
   "language": "python",
   "name": "python3"
  },
  "language_info": {
   "codemirror_mode": {
    "name": "ipython",
    "version": 3
   },
   "file_extension": ".py",
   "mimetype": "text/x-python",
   "name": "python",
   "nbconvert_exporter": "python",
   "pygments_lexer": "ipython3",
   "version": "3.11.10"
  }
 },
 "nbformat": 4,
 "nbformat_minor": 2
}
