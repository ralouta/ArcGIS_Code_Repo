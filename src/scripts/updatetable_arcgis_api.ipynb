{
 "cells": [
  {
   "cell_type": "code",
   "execution_count": null,
   "metadata": {},
   "outputs": [],
   "source": [
    "from arcgis.gis import GIS\n",
    "from arcgis.features import FeatureLayer\n",
    "import random\n",
    "\n",
    "# Connect to your GIS\n",
    "gis = GIS(\"Pro\")\n",
    "\n",
    "# Get the feature layer\n",
    "orders_specialties_layer = FeatureLayer(\"<placeholder_for_feture_layer>_rest_endpoint>\")\n",
    "orders = \"<placeholder_for_feture_layer>\"\n",
    "# Get the features from the layer\n",
    "features = orders_specialties_layer.query(\"1=1\")\n",
    "\n",
    "schoolnames=[]\n",
    "with arcpy.da.SearchCursor(orders, [\"name\"]) as cursor:\n",
    "    for row in cursor:\n",
    "        schoolnames.append(row[0])\n",
    "\n",
    "# Update the \"OrderName\" field of each feature\n",
    "for feature in features:\n",
    "    feature.attributes['OrderName'] = random.choice(schoolnames)\n",
    "\n",
    "# Update the features in the layer\n",
    "orders_specialties_layer.edit_features(updates=features)"
   ]
  }
 ],
 "metadata": {
  "language_info": {
   "name": "python"
  }
 },
 "nbformat": 4,
 "nbformat_minor": 2
}
