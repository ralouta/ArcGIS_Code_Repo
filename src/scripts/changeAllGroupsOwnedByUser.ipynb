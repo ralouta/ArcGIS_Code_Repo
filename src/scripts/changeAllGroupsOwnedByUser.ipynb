{
 "cells": [
  {
   "cell_type": "markdown",
   "metadata": {},
   "source": [
    "# Import Libraries"
   ]
  },
  {
   "cell_type": "code",
   "execution_count": null,
   "metadata": {},
   "outputs": [],
   "source": [
    "from arcgis.gis import GIS\n",
    "import getpass"
   ]
  },
  {
   "cell_type": "markdown",
   "metadata": {},
   "source": [
    "# Connect to AGOL"
   ]
  },
  {
   "cell_type": "code",
   "execution_count": null,
   "metadata": {},
   "outputs": [],
   "source": [
    "# Input username, password and group owner username\n",
    "username = input(\"Enter your username: \")\n",
    "password = getpass.getpass(\"Enter your password: \")\n",
    "group_owner_username = input(\"Enter group owner username: \")\n",
    "\n",
    "# Connect to the GIS\n",
    "gis = GIS(\"https://www.arcgis.com\", username, password)\n"
   ]
  },
  {
   "cell_type": "markdown",
   "metadata": {},
   "source": [
    "# User Owned Groups"
   ]
  },
  {
   "cell_type": "code",
   "execution_count": null,
   "metadata": {},
   "outputs": [],
   "source": [
    "# Get the User object for the group owner\n",
    "group_owner = gis.users.get(group_owner_username)\n",
    "\n",
    "# Get all groups owned by the group owner\n",
    "owned_groups = gis.groups.search(query=f\"owner:{group_owner_username}\")\n",
    "\n",
    "# Create a list of group names\n",
    "owned_group_names = [group.title for group in owned_groups]\n",
    "\n",
    "\n",
    "print(\"Owned Groups:\")\n",
    "for name in owned_group_names:\n",
    "    print(name)\n"
   ]
  },
  {
   "cell_type": "markdown",
   "metadata": {},
   "source": [
    "# Re-assing groups"
   ]
  },
  {
   "cell_type": "code",
   "execution_count": null,
   "metadata": {},
   "outputs": [],
   "source": [
    "# Input new owner username\n",
    "new_owner_username = input(\"Enter new owner username: \")\n",
    "\n",
    "# Get the User object for the new owner\n",
    "new_owner = gis.users.get(new_owner_username)\n",
    "\n",
    "# Change the owner of the groups and items\n",
    "if owned_groups and len(owned_groups) > 0:\n",
    "    for group in owned_groups:\n",
    "        group.reassign_to(new_owner_username)"
   ]
  }
 ],
 "metadata": {
  "kernelspec": {
   "display_name": "Python 3",
   "language": "python",
   "name": "python3"
  },
  "language_info": {
   "codemirror_mode": {
    "name": "ipython",
    "version": 3
   },
   "file_extension": ".py",
   "mimetype": "text/x-python",
   "name": "python",
   "nbconvert_exporter": "python",
   "pygments_lexer": "ipython3",
   "version": "3.9.18"
  }
 },
 "nbformat": 4,
 "nbformat_minor": 2
}
